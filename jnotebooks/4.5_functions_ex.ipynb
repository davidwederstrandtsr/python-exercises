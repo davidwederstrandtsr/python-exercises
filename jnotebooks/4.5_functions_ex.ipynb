{
 "cells": [
  {
   "cell_type": "code",
   "execution_count": 1,
   "metadata": {},
   "outputs": [],
   "source": [
    "vowels = ['a', 'e', 'i', 'o', 'u']\n",
    "consonant = ['b','c','d','f','g','h','j','k','l','m','n','p','q','r','s','t','v','w','x','y','z']"
   ]
  },
  {
   "cell_type": "code",
   "execution_count": 2,
   "metadata": {},
   "outputs": [
    {
     "name": "stdout",
     "output_type": "stream",
     "text": [
      "True\n",
      "True\n",
      "False\n"
     ]
    }
   ],
   "source": [
    "# 1. Define a function named is_two. It should accept one input and return True if the passed input is \n",
    "#\t either the number or the string 2, False otherwise.\n",
    "def is_two(num):\n",
    "\treturn num == 2 or num == \"2\"\n",
    "\n",
    "print(is_two(2))\n",
    "print(is_two('2'))\n",
    "print(is_two(3))"
   ]
  },
  {
   "cell_type": "code",
   "execution_count": 3,
   "metadata": {},
   "outputs": [],
   "source": [
    "# 2. Define a function named is_vowel. It should return True if the passed string is a vowel, False otherwise.\n",
    "def is_vowel(ch):\n",
    "    if str(ch).isdigit():\n",
    "        return False\n",
    "    ch = ch.lower()\n",
    "    return ch in vowels"
   ]
  },
  {
   "cell_type": "code",
   "execution_count": 4,
   "metadata": {},
   "outputs": [
    {
     "name": "stdout",
     "output_type": "stream",
     "text": [
      "True\n",
      "False\n"
     ]
    }
   ],
   "source": [
    "# 3. Define a function named is_consonant. \n",
    "#\t It should return True if the passed string is a consonant, False otherwise. \n",
    "#\t Use your is_vowel function to accomplish this.\n",
    "def is_consonant(ch):\n",
    "    if str(ch).isdigit():\n",
    "        return False\n",
    "    ch = ch.lower()\n",
    "\n",
    "    return ch not in vowels\n",
    "\n",
    "print(is_consonant('D'))\n",
    "print(is_consonant('a'))"
   ]
  },
  {
   "cell_type": "code",
   "execution_count": 5,
   "metadata": {},
   "outputs": [],
   "source": [
    "# 4. Define a function that accepts a string that is a word. \n",
    "#\t The function should capitalize the first letter of the word if the word starts with a consonant.\n",
    "def capitilize_word(word):\n",
    "    ch = word[0]\n",
    "    if is_consonant(ch):\n",
    "        return word.title()\n",
    "    else:\n",
    "        return word\n",
    "\n",
    "# or\n",
    "\n",
    "def cap_word(word):\n",
    "\tif str(word).isdigit():\n",
    "\t\treturn word\n",
    "\tch = word[0]\n",
    "\tif ch not in ['a', 'e', 'i', 'o', 'u']:\n",
    "\t\treturn word.title()\n",
    "\telse:\n",
    "\t\treturn word\n",
    "\n",
    "cap_word1 = capitilize_word(\"david\")\n",
    "cap_word2 = capitilize_word(\"anthony\")\n",
    "cap_word3 = cap_word(\"david\")\n",
    "cap_word4 = cap_word(\"anthony\")"
   ]
  },
  {
   "cell_type": "code",
   "execution_count": 6,
   "metadata": {},
   "outputs": [
    {
     "name": "stdout",
     "output_type": "stream",
     "text": [
      "Enter a tip between 0 and 100: \n"
     ]
    },
    {
     "ename": "ValueError",
     "evalue": "invalid literal for int() with base 10: ''",
     "output_type": "error",
     "traceback": [
      "\u001b[0;31m---------------------------------------------------------------------------\u001b[0m",
      "\u001b[0;31mValueError\u001b[0m                                Traceback (most recent call last)",
      "\u001b[0;32m<ipython-input-6-46a90df73857>\u001b[0m in \u001b[0;36m<module>\u001b[0;34m\u001b[0m\n\u001b[1;32m     11\u001b[0m \u001b[0;34m\u001b[0m\u001b[0m\n\u001b[1;32m     12\u001b[0m \u001b[0;31m# 5 putput\u001b[0m\u001b[0;34m\u001b[0m\u001b[0;34m\u001b[0m\u001b[0;34m\u001b[0m\u001b[0m\n\u001b[0;32m---> 13\u001b[0;31m \u001b[0mpercent\u001b[0m \u001b[0;34m=\u001b[0m \u001b[0mint\u001b[0m\u001b[0;34m(\u001b[0m\u001b[0minput\u001b[0m\u001b[0;34m(\u001b[0m\u001b[0;34m\"Enter a tip between 0 and 100: \"\u001b[0m\u001b[0;34m)\u001b[0m\u001b[0;34m)\u001b[0m\u001b[0;34m\u001b[0m\u001b[0;34m\u001b[0m\u001b[0m\n\u001b[0m\u001b[1;32m     14\u001b[0m \u001b[0mbill\u001b[0m \u001b[0;34m=\u001b[0m \u001b[0mint\u001b[0m\u001b[0;34m(\u001b[0m\u001b[0minput\u001b[0m\u001b[0;34m(\u001b[0m\u001b[0;34m\"Enter the bill amount $\"\u001b[0m\u001b[0;34m)\u001b[0m\u001b[0;34m)\u001b[0m\u001b[0;34m\u001b[0m\u001b[0;34m\u001b[0m\u001b[0m\n\u001b[1;32m     15\u001b[0m \u001b[0mbill_including_tip\u001b[0m \u001b[0;34m=\u001b[0m \u001b[0mcalculate_tip\u001b[0m\u001b[0;34m(\u001b[0m\u001b[0mpercent\u001b[0m\u001b[0;34m,\u001b[0m \u001b[0mbill\u001b[0m\u001b[0;34m)\u001b[0m\u001b[0;34m\u001b[0m\u001b[0;34m\u001b[0m\u001b[0m\n",
      "\u001b[0;31mValueError\u001b[0m: invalid literal for int() with base 10: ''"
     ]
    }
   ],
   "source": [
    "# 5. Define a function named calculate_tip. \n",
    "#\t It should accept a tip percentage (a number between 0 and 1) and the bill total, and return the amount to tip.\n",
    "\n",
    "def calculate_tip(percent, bill):\n",
    "    while (percent < 0 or percent > 100):\n",
    "        print(\"The percentage for tip needs to be between 0 and 100\")\n",
    "        percent = input(\"Enter a tip between 0 and 1: (0.15 for 15%)\")\n",
    "    tip = bill * percent / 100.0\n",
    "\n",
    "    return bill + tip\n",
    "\n",
    "# 5 putput\n",
    "percent = int(input(\"Enter a tip between 0 and 100: \"))\n",
    "bill = int(input(\"Enter the bill amount $\"))\n",
    "bill_including_tip = calculate_tip(percent, bill)\n",
    "print(f\"Your nill before including tip is ${bill}\")\n",
    "print(f\"Your bill after including tip is ${bill_including_tip}\")"
   ]
  },
  {
   "cell_type": "code",
   "execution_count": 7,
   "metadata": {},
   "outputs": [
    {
     "name": "stdout",
     "output_type": "stream",
     "text": [
      "Enter a discount between 0 and 100: \n",
      "Enter the bill amount\n"
     ]
    },
    {
     "ename": "TypeError",
     "evalue": "'<' not supported between instances of 'str' and 'int'",
     "output_type": "error",
     "traceback": [
      "\u001b[0;31m---------------------------------------------------------------------------\u001b[0m",
      "\u001b[0;31mTypeError\u001b[0m                                 Traceback (most recent call last)",
      "\u001b[0;32m<ipython-input-7-3cd52517fc6e>\u001b[0m in \u001b[0;36m<module>\u001b[0;34m\u001b[0m\n\u001b[1;32m     12\u001b[0m \u001b[0mpercent\u001b[0m \u001b[0;34m=\u001b[0m \u001b[0minput\u001b[0m\u001b[0;34m(\u001b[0m\u001b[0;34m\"Enter a discount between 0 and 100: \"\u001b[0m\u001b[0;34m)\u001b[0m\u001b[0;34m\u001b[0m\u001b[0;34m\u001b[0m\u001b[0m\n\u001b[1;32m     13\u001b[0m \u001b[0mbill\u001b[0m \u001b[0;34m=\u001b[0m \u001b[0minput\u001b[0m\u001b[0;34m(\u001b[0m\u001b[0;34m\"Enter the bill amount\"\u001b[0m\u001b[0;34m)\u001b[0m\u001b[0;34m\u001b[0m\u001b[0;34m\u001b[0m\u001b[0m\n\u001b[0;32m---> 14\u001b[0;31m \u001b[0mbill_after_discount\u001b[0m \u001b[0;34m=\u001b[0m \u001b[0mcalculate_discount\u001b[0m\u001b[0;34m(\u001b[0m\u001b[0mpercent\u001b[0m\u001b[0;34m,\u001b[0m \u001b[0mbill\u001b[0m\u001b[0;34m)\u001b[0m\u001b[0;34m\u001b[0m\u001b[0;34m\u001b[0m\u001b[0m\n\u001b[0m\u001b[1;32m     15\u001b[0m \u001b[0mprint\u001b[0m\u001b[0;34m(\u001b[0m\u001b[0;34mf\"Your bill after discount is ${bill_after_discount}\"\u001b[0m\u001b[0;34m)\u001b[0m\u001b[0;34m\u001b[0m\u001b[0;34m\u001b[0m\u001b[0m\n",
      "\u001b[0;32m<ipython-input-7-3cd52517fc6e>\u001b[0m in \u001b[0;36mcalculate_discount\u001b[0;34m(percent, bill)\u001b[0m\n\u001b[1;32m      2\u001b[0m \u001b[0;31m#        It should accept a original price, and a discount percentage, and return the price after the discount is applied.\u001b[0m\u001b[0;34m\u001b[0m\u001b[0;34m\u001b[0m\u001b[0;34m\u001b[0m\u001b[0m\n\u001b[1;32m      3\u001b[0m \u001b[0;32mdef\u001b[0m \u001b[0mcalculate_discount\u001b[0m\u001b[0;34m(\u001b[0m\u001b[0mpercent\u001b[0m\u001b[0;34m,\u001b[0m \u001b[0mbill\u001b[0m\u001b[0;34m)\u001b[0m\u001b[0;34m:\u001b[0m\u001b[0;34m\u001b[0m\u001b[0;34m\u001b[0m\u001b[0m\n\u001b[0;32m----> 4\u001b[0;31m     \u001b[0;32mwhile\u001b[0m \u001b[0;34m(\u001b[0m\u001b[0mpercent\u001b[0m \u001b[0;34m<\u001b[0m \u001b[0;36m0\u001b[0m \u001b[0;32mand\u001b[0m \u001b[0mpercent\u001b[0m \u001b[0;34m>\u001b[0m \u001b[0;36m1\u001b[0m \u001b[0;32mand\u001b[0m \u001b[0mbill\u001b[0m \u001b[0;34m>\u001b[0m \u001b[0;36m0\u001b[0m\u001b[0;34m)\u001b[0m\u001b[0;34m:\u001b[0m\u001b[0;34m\u001b[0m\u001b[0;34m\u001b[0m\u001b[0m\n\u001b[0m\u001b[1;32m      5\u001b[0m         \u001b[0mprint\u001b[0m\u001b[0;34m(\u001b[0m\u001b[0;34m\"The percentage for discount needs to be between 0 and 100\"\u001b[0m\u001b[0;34m)\u001b[0m\u001b[0;34m\u001b[0m\u001b[0;34m\u001b[0m\u001b[0m\n\u001b[1;32m      6\u001b[0m         \u001b[0mpercent\u001b[0m \u001b[0;34m=\u001b[0m \u001b[0minput\u001b[0m\u001b[0;34m(\u001b[0m\u001b[0;34m\"Enter a discount between 0 and 100: \"\u001b[0m\u001b[0;34m)\u001b[0m\u001b[0;34m\u001b[0m\u001b[0;34m\u001b[0m\u001b[0m\n",
      "\u001b[0;31mTypeError\u001b[0m: '<' not supported between instances of 'str' and 'int'"
     ]
    }
   ],
   "source": [
    "# 6. Define a function named apply_discount. \n",
    "#\t It should accept a original price, and a discount percentage, and return the price after the discount is applied.\n",
    "def calculate_discount(percent, bill):\n",
    "    while (percent < 0 and percent > 1 and bill > 0):\n",
    "        print(\"The percentage for discount needs to be between 0 and 100\")\n",
    "        percent = input(\"Enter a discount between 0 and 100: \")\n",
    "        bill = input(\"Enter the bill amount\")\n",
    "    discount = bill * percent / 100.0\n",
    "    return bill - discount\n",
    "\n",
    "# 6 output\n",
    "percent = input(\"Enter a discount between 0 and 100: \")\n",
    "bill = input(\"Enter the bill amount\")\n",
    "bill_after_discount = calculate_discount(percent, bill)\n",
    "print(f\"Your bill after discount is ${bill_after_discount}\")"
   ]
  },
  {
   "cell_type": "code",
   "execution_count": 8,
   "metadata": {},
   "outputs": [
    {
     "name": "stdout",
     "output_type": "stream",
     "text": [
      "The number after commas removed is 1000\n"
     ]
    }
   ],
   "source": [
    "# 7. Define a function named handle_commas. \n",
    "#\t It should accept a string that is a number that contains commas in it as input, and return a number as output.\n",
    "\n",
    "def handle_commas(number):\n",
    "    new = number.replace(',','')\n",
    "    return new\n",
    "\n",
    "number_after = handle_commas('1,000')\n",
    "print(f\"The number after commas removed is {number_after}\")"
   ]
  },
  {
   "cell_type": "code",
   "execution_count": 9,
   "metadata": {},
   "outputs": [
    {
     "name": "stdout",
     "output_type": "stream",
     "text": [
      "B\n",
      "\n"
     ]
    }
   ],
   "source": [
    "# 8. Define a function named get_letter_grade. \n",
    "#\t It should accept a number and return the letter grade associated with that number (A-F).\n",
    "\n",
    "def get_letter_grade(number):\n",
    "\twhile (str(number).isdigit() == False\n",
    "\t\tor number < 0 or number > 100):\n",
    "\t\tprint(\"The entered number is not valid.\")\n",
    "\t\tnumber = input(\"Enter a numerical grade: \")\n",
    "\n",
    "\tif number >= 90:\n",
    "\t\tgrade = 'A'\n",
    "\telif number >= 80:\n",
    "\t\tgrade = 'B'\n",
    "\telif number >= 70:\n",
    "\t\tgrade = 'C'\n",
    "\telif number >= 60:\n",
    "\t\tgrade = 'D'\n",
    "\telse:\n",
    "\t\tgrade = 'F'\n",
    "\n",
    "\treturn grade\n",
    "\n",
    "letter_grade = get_letter_grade(87)\n",
    "print(letter_grade)\n",
    "print()"
   ]
  },
  {
   "cell_type": "code",
   "execution_count": 10,
   "metadata": {},
   "outputs": [
    {
     "name": "stdout",
     "output_type": "stream",
     "text": [
      "Msssspp\n",
      "\n"
     ]
    }
   ],
   "source": [
    "# 9. Define a function named remove_vowels that accepts a string and returns a string with all the vowels removed.\n",
    "\n",
    "def remove_vowels(word):\n",
    "    new_string = ''\n",
    "    for w in word:\n",
    "        l = w.lower()\n",
    "        if w not in vowels and l not in vowels:\n",
    "            new_string += w\n",
    "        else:\n",
    "            continue\n",
    "    return new_string\n",
    "\n",
    "word_minus_vowels = remove_vowels('MississippI')\n",
    "print(word_minus_vowels)\n",
    "\n",
    "print()"
   ]
  },
  {
   "cell_type": "code",
   "execution_count": 11,
   "metadata": {},
   "outputs": [
    {
     "name": "stdout",
     "output_type": "stream",
     "text": [
      "_da_vid\n",
      "\n"
     ]
    }
   ],
   "source": [
    "# 10. Define a function named normalize_name. \n",
    "#\t  It should accept a string and return a valid python identifier, that is:\n",
    "# \t\t- anything that is not a valid python identifier should be removed\n",
    "# \t\t- leading and trailing whitespace should be removed\n",
    "# \t\t- everything should be lowercase\n",
    "# \t\t- spaces should be replaced with underscores\n",
    "# \t\t- for example:\n",
    "# \t\t\t~ Name will become name\n",
    "# \t\t\t~ First Name will become first_name\n",
    "# \t\t\t~ % Completed will become completed\n",
    "\n",
    "def normalize_name(name):\n",
    "    new_name = ''\n",
    "    name = name.lower().strip()\n",
    "    name = name.replace(' ','_')\n",
    "    \n",
    "    for n in name:\n",
    "        if n in vowels or n in consonant or n == '_':\n",
    "            new_name += n\n",
    "        else:\n",
    "            continue         \n",
    "   \n",
    "    return new_name\n",
    "\n",
    "fixed_name = normalize_name('0 Da vid')\n",
    "print(fixed_name)\n",
    "print()"
   ]
  },
  {
   "cell_type": "code",
   "execution_count": 12,
   "metadata": {},
   "outputs": [
    {
     "name": "stdout",
     "output_type": "stream",
     "text": [
      "[1, 2, 3]\n",
      "[1, 3, 6]\n",
      "\n"
     ]
    }
   ],
   "source": [
    "# 11. Write a function named cumsum that accepts a list of numbers and returns a list that is the cumulative \n",
    "#\t  sum of the numbers in the list.\n",
    "# \t\t- cumsum([1, 1, 1]) returns [1, 2, 3]\n",
    "# \t\t- cumsum([1, 2, 3, 4]) returns [1, 3, 6, 10]\n",
    "\n",
    "def cumsum(num_list):\n",
    "    new_list = []\n",
    "    temp = 0\n",
    "    for n in num_list:\n",
    "        new_list.append(n + temp)\n",
    "        temp += n\n",
    "    return new_list\n",
    "\n",
    "list1 = cumsum([1, 1, 1])\n",
    "list2 = cumsum([1, 2, 3])\n",
    "print(list1)\n",
    "print(list2)\n",
    "\n",
    "print()"
   ]
  },
  {
   "cell_type": "code",
   "execution_count": 13,
   "metadata": {},
   "outputs": [],
   "source": [
    "# Bonus\n",
    "# Create a function named twelveto24. \n",
    "#   It should accept a string in the format 10:45am or 4:30pm and return a string that is the representation \n",
    "#   of the time in a 24-hour format. Bonus write a function that does the opposite.\n",
    "\n",
    "\n",
    "def twelveto24(time_to_covert):\n",
    "    hour = []\n",
    "    minutes = ''\n",
    "    ampm = ''\n",
    "    parts = time_to_convert.split(':')\n",
    "    hour = parts[0]\n",
    "    temp = parts[1]\n",
    "    for t in temp:\n",
    "        if t.isdigit():\n",
    "            minutes += t\n",
    "        else:\n",
    "            ampm += t\n",
    "\n",
    "    if ampm == 'pm':\n",
    "        hour += 12\n",
    "\n",
    "    time_coverted = hour + ':' + minutes"
   ]
  },
  {
   "cell_type": "code",
   "execution_count": 15,
   "metadata": {},
   "outputs": [],
   "source": [
    "# Create a function named col_index. \n",
    "#.  It should accept a spreadsheet column name, and return the index number of the column.\n",
    "# \t\t- col_index('A') returns 1\n",
    "# \t\t- col_index('B') returns 2\n",
    "# \t\t- col_index('AA') returns 27\n",
    "\n",
    "def col_index(col_name):\n",
    "    num = 0\n",
    "    for i in col_name:\n",
    "        num = num * 26 + 1 + ord(i) - ord('A')\n",
    "    return num"
   ]
  },
  {
   "cell_type": "code",
   "execution_count": 16,
   "metadata": {},
   "outputs": [
    {
     "data": {
      "text/plain": [
       "1"
      ]
     },
     "execution_count": 16,
     "metadata": {},
     "output_type": "execute_result"
    }
   ],
   "source": [
    "col_index('A')"
   ]
  },
  {
   "cell_type": "code",
   "execution_count": 17,
   "metadata": {},
   "outputs": [
    {
     "data": {
      "text/plain": [
       "27"
      ]
     },
     "execution_count": 17,
     "metadata": {},
     "output_type": "execute_result"
    }
   ],
   "source": [
    "col_index('AA')"
   ]
  },
  {
   "cell_type": "code",
   "execution_count": null,
   "metadata": {},
   "outputs": [],
   "source": []
  },
  {
   "cell_type": "code",
   "execution_count": null,
   "metadata": {},
   "outputs": [],
   "source": []
  }
 ],
 "metadata": {
  "kernelspec": {
   "display_name": "Python 3",
   "language": "python",
   "name": "python3"
  },
  "language_info": {
   "codemirror_mode": {
    "name": "ipython",
    "version": 3
   },
   "file_extension": ".py",
   "mimetype": "text/x-python",
   "name": "python",
   "nbconvert_exporter": "python",
   "pygments_lexer": "ipython3",
   "version": "3.7.4"
  }
 },
 "nbformat": 4,
 "nbformat_minor": 2
}
