{
 "cells": [
  {
   "cell_type": "code",
   "execution_count": 8,
   "metadata": {},
   "outputs": [],
   "source": [
    "vowels = ['a', 'e', 'i', 'o', 'u']\n",
    "consonant = ['b','c','d','f','g','h','j','k','l','m','n','p','q','r','s','t','v','w','x','y','z']"
   ]
  },
  {
   "cell_type": "code",
   "execution_count": null,
   "metadata": {},
   "outputs": [],
   "source": [
    "# 1. Define a function named is_two. It should accept one input and return True if the passed input is \n",
    "#\t either the number or the string 2, False otherwise.\n",
    "def is_two(num):\n",
    "\treturn num == 2 or num == \"2\"\n",
    "\n",
    "print(is_two(2))\n",
    "print(is_two('2'))\n",
    "print(is_two(3))"
   ]
  },
  {
   "cell_type": "code",
   "execution_count": null,
   "metadata": {},
   "outputs": [],
   "source": [
    "# 2. Define a function named is_vowel. It should return True if the passed string is a vowel, False otherwise.\n",
    "def is_vowel(ch):\n",
    "    if str(ch).isdigit():\n",
    "        return False\n",
    "    ch = ch.lower()\n",
    "    return ch in vowels"
   ]
  },
  {
   "cell_type": "code",
   "execution_count": null,
   "metadata": {},
   "outputs": [],
   "source": [
    "print(is_vowel('a'))\n",
    "print(is_vowel('A'))\n",
    "print(is_vowel('b'))"
   ]
  },
  {
   "cell_type": "code",
   "execution_count": null,
   "metadata": {},
   "outputs": [],
   "source": [
    "assert is_vowel('c') == False\n",
    "assert is_vowel('a') == True\n",
    "\n",
    "# nothing will display if the assertions are correct"
   ]
  },
  {
   "cell_type": "code",
   "execution_count": 9,
   "metadata": {},
   "outputs": [
    {
     "name": "stdout",
     "output_type": "stream",
     "text": [
      "True\n",
      "False\n"
     ]
    }
   ],
   "source": [
    "# 3. Define a function named is_consonant. \n",
    "#\t It should return True if the passed string is a consonant, False otherwise. \n",
    "#\t Use your is_vowel function to accomplish this.\n",
    "def is_consonant(ch):\n",
    "    if str(ch).isdigit():\n",
    "        return False\n",
    "    ch = ch.lower()\n",
    "\n",
    "    return ch in consonant\n",
    "# return ch.isalpha() and not in vowels\n",
    "\n",
    "print(is_consonant('D'))\n",
    "print(is_consonant('a'))"
   ]
  },
  {
   "cell_type": "code",
   "execution_count": 10,
   "metadata": {},
   "outputs": [
    {
     "data": {
      "text/plain": [
       "True"
      ]
     },
     "execution_count": 10,
     "metadata": {},
     "output_type": "execute_result"
    }
   ],
   "source": [
    "\"c\".isalpha()"
   ]
  },
  {
   "cell_type": "code",
   "execution_count": null,
   "metadata": {},
   "outputs": [],
   "source": [
    "assert "
   ]
  },
  {
   "cell_type": "code",
   "execution_count": 13,
   "metadata": {},
   "outputs": [],
   "source": [
    "# 4. Define a function that accepts a string that is a word. \n",
    "#\t The function should capitalize the first letter of the word if the word starts with a consonant.\n",
    "def capitilize_word(word):\n",
    "    ch = word[0]\n",
    "    if is_consonant(ch):\n",
    "        return word.title()\n",
    "    else:\n",
    "        return word\n",
    "\n",
    "# or\n",
    "\n",
    "def cap_word(word):\n",
    "    if str(word).isdigit():\n",
    "        return word\n",
    "    ch = word[0]\n",
    "    if ch not in ['a', 'e', 'i', 'o', 'u']:\n",
    "        return word.title()\n",
    "    else:\n",
    "        return word"
   ]
  },
  {
   "cell_type": "code",
   "execution_count": 14,
   "metadata": {},
   "outputs": [],
   "source": [
    "def c_word(word):\n",
    "    first_letter = word[0]\n",
    "    if is_consonant(first_letter):\n",
    "        return word.capitalize()\n",
    "    else:\n",
    "        return word"
   ]
  },
  {
   "cell_type": "code",
   "execution_count": 15,
   "metadata": {},
   "outputs": [],
   "source": [
    "cap_word1 = capitilize_word(\"david\")\n",
    "cap_word2 = capitilize_word(\"anthony\")\n",
    "cap_word3 = cap_word(\"david\")\n",
    "cap_word4 = cap_word(\"anthony\")\n",
    "cap_word5 = c_word(\"ant\")\n",
    "cap_word6 = c_word(\"bant\")"
   ]
  },
  {
   "cell_type": "code",
   "execution_count": 16,
   "metadata": {},
   "outputs": [
    {
     "name": "stdout",
     "output_type": "stream",
     "text": [
      "David\n",
      "anthony\n",
      "David\n",
      "anthony\n",
      "ant\n",
      "Bant\n"
     ]
    }
   ],
   "source": [
    "print(cap_word1)\n",
    "print(cap_word2)\n",
    "print(cap_word3)\n",
    "print(cap_word4)\n",
    "print(cap_word5)\n",
    "print(cap_word6)"
   ]
  },
  {
   "cell_type": "code",
   "execution_count": 1,
   "metadata": {},
   "outputs": [
    {
     "name": "stdout",
     "output_type": "stream",
     "text": [
      "Enter a tip between 0 and 100: 25\n",
      "Enter the bill amount $100\n",
      "Your nill before including tip is $100\n",
      "Your bill after including tip is $125.0\n"
     ]
    }
   ],
   "source": [
    "# 5. Define a function named calculate_tip. \n",
    "#\t It should accept a tip percentage (a number between 0 and 1) and the bill total, and return the amount to tip.\n",
    "\n",
    "def calculate_tip(percent, bill):\n",
    "    if percent > 0:\n",
    "        percent = percent / 100.0\n",
    "    while (percent < 0 or percent > 1):\n",
    "        print(\"The percentage for tip needs to be between 0 and 100\")\n",
    "        percent = int(input(\"Enter a tip between 0 and 100: \"))\n",
    "    tip = bill * percent\n",
    "\n",
    "    return bill + tip\n",
    "\n",
    "# 5 putput\n",
    "percent = int(input(\"Enter a tip between 0 and 100: \"))\n",
    "bill = int(input(\"Enter the bill amount $\"))\n",
    "bill_including_tip = calculate_tip(percent, bill)\n",
    "print(f\"Your nill before including tip is ${bill}\")\n",
    "print(f\"Your bill after including tip is ${bill_including_tip}\")"
   ]
  },
  {
   "cell_type": "code",
   "execution_count": 2,
   "metadata": {},
   "outputs": [
    {
     "name": "stdout",
     "output_type": "stream",
     "text": [
      "Enter a discount between 0 and 100: 10\n",
      "Enter the bill amount $100\n",
      "Your bill after discount is $90.0\n"
     ]
    }
   ],
   "source": [
    "# 6. Define a function named apply_discount. \n",
    "#\t It should accept a original price, and a discount percentage, and return the price after the discount is applied.\n",
    "def calculate_discount(percent, bill):\n",
    "    if percent > 0:\n",
    "        percent = percent / 100.0\n",
    "    while percent < 0 or percent > 1:\n",
    "        print(\"The percentage for discount needs to be between 0 and 100\")\n",
    "        percent = int(input(\"Enter a discount between 0 and 100: \"))\n",
    "        if percent > 0:\n",
    "            percent = percent / 100.0\n",
    "    discount = bill * percent\n",
    "    return bill - discount\n",
    "\n",
    "# 6 output\n",
    "percent = int(input(\"Enter a discount between 0 and 100: \"))\n",
    "bill = int(input(\"Enter the bill amount $\"))\n",
    "bill_after_discount = calculate_discount(percent, bill)\n",
    "print(f\"Your bill after discount is ${bill_after_discount}\")"
   ]
  },
  {
   "cell_type": "code",
   "execution_count": 25,
   "metadata": {},
   "outputs": [],
   "source": [
    "# 7. Define a function named handle_commas. \n",
    "#\t It should accept a string that is a number that contains commas in it as input, and return a number as output.\n",
    "\n",
    "def handle_commas(number):\n",
    "    new = number.replace(',','')\n",
    "    return int(new)"
   ]
  },
  {
   "cell_type": "code",
   "execution_count": 26,
   "metadata": {},
   "outputs": [],
   "source": [
    "assert handle_commas(\"1,234\") == 1234\n",
    "assert handle_commas(\"1,234,567,890\") == 1234567890"
   ]
  },
  {
   "cell_type": "code",
   "execution_count": 27,
   "metadata": {},
   "outputs": [
    {
     "name": "stdout",
     "output_type": "stream",
     "text": [
      "1000\n"
     ]
    }
   ],
   "source": [
    "print(handle_commas('1,000'))"
   ]
  },
  {
   "cell_type": "code",
   "execution_count": 29,
   "metadata": {},
   "outputs": [
    {
     "name": "stdout",
     "output_type": "stream",
     "text": [
      "B\n",
      "\n"
     ]
    }
   ],
   "source": [
    "# 8. Define a function named get_letter_grade. \n",
    "#\t It should accept a number and return the letter grade associated with that number (A-F).\n",
    "\n",
    "def get_letter_grade(number):\n",
    "\twhile (str(number).isdigit() == False\n",
    "\t\tor number < 0 or number > 100):\n",
    "\t\tprint(\"The entered number is not valid.\")\n",
    "\t\tnumber = input(\"Enter a numerical grade: \")\n",
    "\n",
    "\tif number >= 90:\n",
    "\t\tgrade = 'A'\n",
    "\telif number >= 80:\n",
    "\t\tgrade = 'B'\n",
    "\telif number >= 70:\n",
    "\t\tgrade = 'C'\n",
    "\telif number >= 60:\n",
    "\t\tgrade = 'D'\n",
    "\telse:\n",
    "\t\tgrade = 'F'\n",
    "\n",
    "\treturn grade\n",
    "\n",
    "letter_grade = get_letter_grade(87)\n",
    "print(letter_grade)\n",
    "print()"
   ]
  },
  {
   "cell_type": "code",
   "execution_count": 30,
   "metadata": {},
   "outputs": [
    {
     "name": "stdout",
     "output_type": "stream",
     "text": [
      "Msssspp\n",
      "\n"
     ]
    }
   ],
   "source": [
    "# 9. Define a function named remove_vowels that accepts a string and returns a string with all the vowels removed.\n",
    "\n",
    "def remove_vowels(word):\n",
    "    new_string = ''\n",
    "    for w in word:\n",
    "        l = w.lower()\n",
    "        if w not in vowels and l not in vowels:\n",
    "            new_string += w\n",
    "        else:\n",
    "            continue\n",
    "    return new_string\n",
    "\n",
    "word_minus_vowels = remove_vowels('MississippI')\n",
    "print(word_minus_vowels)\n",
    "\n",
    "print()\n",
    "\n",
    "# ''.join([c for c in word if not is_vowel(c)])"
   ]
  },
  {
   "cell_type": "code",
   "execution_count": 32,
   "metadata": {},
   "outputs": [],
   "source": [
    "def remove_vowels2(string):\n",
    "    return ''.join([c for c in string if not is_vowel(c)])"
   ]
  },
  {
   "cell_type": "code",
   "execution_count": 33,
   "metadata": {},
   "outputs": [],
   "source": [
    "# assert remove vowels\n",
    "assert remove_vowels('a') == ''\n",
    "assert remove_vowels('ab') == 'b'\n",
    "assert remove_vowels('daa') == 'd'\n",
    "assert remove_vowels('dad') == 'dd'\n",
    "assert remove_vowels('aaa') == ''\n",
    "assert remove_vowels('asasasa') == 'sss'"
   ]
  },
  {
   "cell_type": "code",
   "execution_count": 40,
   "metadata": {},
   "outputs": [],
   "source": [
    "# 10. Define a function named normalize_name. \n",
    "#\t  It should accept a string and return a valid python identifier, that is:\n",
    "# \t\t- anything that is not a valid python identifier should be removed\n",
    "# \t\t- leading and trailing whitespace should be removed\n",
    "# \t\t- everything should be lowercase\n",
    "# \t\t- spaces should be replaced with underscores\n",
    "# \t\t- for example:\n",
    "# \t\t\t~ Name will become name\n",
    "# \t\t\t~ First Name will become first_name\n",
    "# \t\t\t~ % Completed will become completed\n",
    "\n",
    "def normalize_name(name):\n",
    "    new_name = ''\n",
    "    name = name.lower().strip()\n",
    "    name = name.replace(' ','_')\n",
    "    \n",
    "    for n in name:\n",
    "        if n in vowels or n in consonant or n == '_':\n",
    "            new_name += n\n",
    "        else:\n",
    "            continue         \n",
    "   \n",
    "    return new_name"
   ]
  },
  {
   "cell_type": "code",
   "execution_count": 41,
   "metadata": {},
   "outputs": [
    {
     "name": "stdout",
     "output_type": "stream",
     "text": [
      "_da_vid\n",
      "\n"
     ]
    }
   ],
   "source": [
    "fixed_name = normalize_name('0 Da vid')\n",
    "print(fixed_name)\n",
    "print()"
   ]
  },
  {
   "cell_type": "code",
   "execution_count": 42,
   "metadata": {},
   "outputs": [],
   "source": [
    "# 10 redone\n",
    "# 10 helper function\n",
    "def remove_special_character(string):\n",
    "    return ''.join([c for c in string if c.isalnum() or c == ' '])"
   ]
  },
  {
   "cell_type": "code",
   "execution_count": 43,
   "metadata": {},
   "outputs": [
    {
     "data": {
      "text/plain": [
       "'ab'"
      ]
     },
     "execution_count": 43,
     "metadata": {},
     "output_type": "execute_result"
    }
   ],
   "source": [
    "remove_special_character(\"a!@#$#@%$#$%^^b\")"
   ]
  },
  {
   "cell_type": "code",
   "execution_count": 44,
   "metadata": {},
   "outputs": [],
   "source": [
    "def norm_name(string):\n",
    "    without_special_chars = remove_special_character(string)\n",
    "    return without_special_chars.lower().strip().replace(' ', '_')"
   ]
  },
  {
   "cell_type": "code",
   "execution_count": 45,
   "metadata": {},
   "outputs": [
    {
     "data": {
      "text/plain": [
       "'0_da_vid'"
      ]
     },
     "execution_count": 45,
     "metadata": {},
     "output_type": "execute_result"
    }
   ],
   "source": [
    "norm_name('0 Da vid')"
   ]
  },
  {
   "cell_type": "code",
   "execution_count": 46,
   "metadata": {},
   "outputs": [
    {
     "name": "stdout",
     "output_type": "stream",
     "text": [
      "[1, 2, 3]\n",
      "[1, 3, 6]\n",
      "\n"
     ]
    }
   ],
   "source": [
    "# 11. Write a function named cumsum that accepts a list of numbers and returns a list that is the cumulative \n",
    "#\t  sum of the numbers in the list.\n",
    "# \t\t- cumsum([1, 1, 1]) returns [1, 2, 3]\n",
    "# \t\t- cumsum([1, 2, 3, 4]) returns [1, 3, 6, 10]\n",
    "\n",
    "def cumsum(num_list):\n",
    "    new_list = []\n",
    "    temp = 0\n",
    "    for n in num_list:\n",
    "        new_list.append(n + temp)\n",
    "        temp += n\n",
    "    return new_list\n",
    "\n",
    "list1 = cumsum([1, 1, 1])\n",
    "list2 = cumsum([1, 2, 3])\n",
    "print(list1)\n",
    "print(list2)\n",
    "\n",
    "print()"
   ]
  },
  {
   "cell_type": "code",
   "execution_count": 47,
   "metadata": {},
   "outputs": [],
   "source": [
    "# Bonus\n",
    "# Create a function named twelveto24. \n",
    "#   It should accept a string in the format 10:45am or 4:30pm and return a string that is the representation \n",
    "#   of the time in a 24-hour format. Bonus write a function that does the opposite.\n",
    "\n",
    "\n",
    "def twelveto24(time_to_convert):\n",
    "    hour = []\n",
    "    minutes = ''\n",
    "    ampm = ''\n",
    "    parts = time_to_convert.split(':')\n",
    "    hour = parts[0]\n",
    "    temp = parts[1]\n",
    "    for t in temp:\n",
    "        if t.isdigit():\n",
    "            minutes += t\n",
    "        else:\n",
    "            ampm += t\n",
    "\n",
    "    if ampm == 'pm':\n",
    "        hour = int(hour) + 12\n",
    "\n",
    "    time_converted = str(hour) + ':' + minutes\n",
    "    return time_converted"
   ]
  },
  {
   "cell_type": "code",
   "execution_count": 48,
   "metadata": {},
   "outputs": [
    {
     "name": "stdout",
     "output_type": "stream",
     "text": [
      "11:23\n",
      "23:23\n"
     ]
    }
   ],
   "source": [
    "print(twelveto24('11:23am'))\n",
    "print(twelveto24('11:23pm'))"
   ]
  },
  {
   "cell_type": "code",
   "execution_count": null,
   "metadata": {},
   "outputs": [],
   "source": [
    "# Create a function named col_index. \n",
    "#.  It should accept a spreadsheet column name, and return the index number of the column.\n",
    "# \t\t- col_index('A') returns 1\n",
    "# \t\t- col_index('B') returns 2\n",
    "# \t\t- col_index('AA') returns 27\n",
    "\n",
    "def col_index(col_name):\n",
    "    num = 0\n",
    "    for i in col_name:\n",
    "        num = num * 26 + 1 + ord(i) - ord('A')\n",
    "    return num"
   ]
  },
  {
   "cell_type": "code",
   "execution_count": null,
   "metadata": {},
   "outputs": [],
   "source": [
    "col_index('A')"
   ]
  },
  {
   "cell_type": "code",
   "execution_count": null,
   "metadata": {},
   "outputs": [],
   "source": [
    "col_index('AA')"
   ]
  },
  {
   "cell_type": "code",
   "execution_count": null,
   "metadata": {},
   "outputs": [],
   "source": []
  }
 ],
 "metadata": {
  "kernelspec": {
   "display_name": "Python 3",
   "language": "python",
   "name": "python3"
  },
  "language_info": {
   "codemirror_mode": {
    "name": "ipython",
    "version": 3
   },
   "file_extension": ".py",
   "mimetype": "text/x-python",
   "name": "python",
   "nbconvert_exporter": "python",
   "pygments_lexer": "ipython3",
   "version": "3.7.4"
  }
 },
 "nbformat": 4,
 "nbformat_minor": 2
}
