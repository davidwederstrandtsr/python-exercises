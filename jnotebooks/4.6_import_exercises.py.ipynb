{
 "cells": [
  {
   "cell_type": "code",
   "execution_count": 1,
   "metadata": {},
   "outputs": [],
   "source": [
    "# 1. Import and test 3 of the functions from your functions exercise file.\n",
    "\n",
    "#    Your functions exercise are not currently in a file with a name that can be easily imported. \n",
    "#    Copy your functions exercise file and name the copy functions_exercises.py.\n",
    "\n",
    "#    Import each function in a different way:\n",
    "\n",
    "#         import the module and refer to the function with the . syntax\n",
    "#         use from to import the function directly\n",
    "#         use from and give the function a different name"
   ]
  },
  {
   "cell_type": "code",
   "execution_count": 2,
   "metadata": {},
   "outputs": [],
   "source": [
    "import functions_exercises"
   ]
  },
  {
   "cell_type": "code",
   "execution_count": 3,
   "metadata": {},
   "outputs": [],
   "source": [
    "assert functions_exercises.calculate_tip(10, 100) == 110\n",
    "assert functions_exercises.calculate_tip(10, 110) != 110"
   ]
  },
  {
   "cell_type": "code",
   "execution_count": 4,
   "metadata": {},
   "outputs": [],
   "source": [
    "from functions_exercises import handle_commas"
   ]
  },
  {
   "cell_type": "code",
   "execution_count": 5,
   "metadata": {},
   "outputs": [],
   "source": [
    "assert handle_commas('1,111') == 1111\n",
    "assert handle_commas('1,111') != 1110"
   ]
  },
  {
   "cell_type": "code",
   "execution_count": 6,
   "metadata": {},
   "outputs": [],
   "source": [
    "from functions_exercises import get_letter_grade as glg"
   ]
  },
  {
   "cell_type": "code",
   "execution_count": 7,
   "metadata": {},
   "outputs": [],
   "source": [
    "assert glg(86) == 'B'\n",
    "assert glg(86) != 'A'"
   ]
  },
  {
   "cell_type": "code",
   "execution_count": 8,
   "metadata": {},
   "outputs": [],
   "source": [
    "# For the following exercises, read about and use the itertools module from the standard library \n",
    "# to help you solve the problem."
   ]
  },
  {
   "cell_type": "code",
   "execution_count": 9,
   "metadata": {},
   "outputs": [],
   "source": [
    "# 1. How many different ways can you combine the letters from \"abc\" with the numbers 1, 2, and 3?"
   ]
  },
  {
   "cell_type": "code",
   "execution_count": 10,
   "metadata": {},
   "outputs": [
    {
     "data": {
      "text/plain": [
       "[('a', '1'),\n",
       " ('a', '2'),\n",
       " ('a', '3'),\n",
       " ('b', '1'),\n",
       " ('b', '2'),\n",
       " ('b', '3'),\n",
       " ('c', '1'),\n",
       " ('c', '2'),\n",
       " ('c', '3')]"
      ]
     },
     "execution_count": 10,
     "metadata": {},
     "output_type": "execute_result"
    }
   ],
   "source": [
    "from itertools import product\n",
    "\n",
    "list(product(\"abc\", ('123')))"
   ]
  },
  {
   "cell_type": "code",
   "execution_count": 11,
   "metadata": {},
   "outputs": [
    {
     "data": {
      "text/plain": [
       "9"
      ]
     },
     "execution_count": 11,
     "metadata": {},
     "output_type": "execute_result"
    }
   ],
   "source": [
    "len(list(product(\"abc\", ('123'))))"
   ]
  },
  {
   "cell_type": "code",
   "execution_count": 12,
   "metadata": {},
   "outputs": [],
   "source": [
    "# 2. How many different ways can you combine two of the letters from \"abcd\"?"
   ]
  },
  {
   "cell_type": "code",
   "execution_count": 13,
   "metadata": {},
   "outputs": [
    {
     "data": {
      "text/plain": [
       "[('a', 'b'),\n",
       " ('a', 'c'),\n",
       " ('a', 'd'),\n",
       " ('b', 'a'),\n",
       " ('b', 'c'),\n",
       " ('b', 'd'),\n",
       " ('c', 'a'),\n",
       " ('c', 'b'),\n",
       " ('c', 'd'),\n",
       " ('d', 'a'),\n",
       " ('d', 'b'),\n",
       " ('d', 'c')]"
      ]
     },
     "execution_count": 13,
     "metadata": {},
     "output_type": "execute_result"
    }
   ],
   "source": [
    "from itertools import permutations\n",
    "\n",
    "list(permutations(\"abcd\", 2))"
   ]
  },
  {
   "cell_type": "code",
   "execution_count": 14,
   "metadata": {},
   "outputs": [
    {
     "data": {
      "text/plain": [
       "12"
      ]
     },
     "execution_count": 14,
     "metadata": {},
     "output_type": "execute_result"
    }
   ],
   "source": [
    "len(list(permutations(\"abcd\", 2)))"
   ]
  },
  {
   "cell_type": "code",
   "execution_count": 15,
   "metadata": {},
   "outputs": [],
   "source": [
    "# Save this file as profiles.json inside of your exercises directory. Use the load function from the \n",
    "# json module to open this file, it will produce a list of dictionaries. Using this data, write some \n",
    "# code that calculates and outputs the following information:"
   ]
  },
  {
   "cell_type": "code",
   "execution_count": 16,
   "metadata": {},
   "outputs": [],
   "source": [
    "from json import load"
   ]
  },
  {
   "cell_type": "code",
   "execution_count": null,
   "metadata": {},
   "outputs": [],
   "source": []
  },
  {
   "cell_type": "code",
   "execution_count": 17,
   "metadata": {},
   "outputs": [],
   "source": [
    "profiles = load(open(\"profiles.json\"))"
   ]
  },
  {
   "cell_type": "code",
   "execution_count": 18,
   "metadata": {},
   "outputs": [],
   "source": [
    "# Total number of users"
   ]
  },
  {
   "cell_type": "code",
   "execution_count": 19,
   "metadata": {},
   "outputs": [
    {
     "data": {
      "text/plain": [
       "19"
      ]
     },
     "execution_count": 19,
     "metadata": {},
     "output_type": "execute_result"
    }
   ],
   "source": [
    "len(profiles)"
   ]
  },
  {
   "cell_type": "code",
   "execution_count": 20,
   "metadata": {},
   "outputs": [],
   "source": [
    "# Number of active users"
   ]
  },
  {
   "cell_type": "code",
   "execution_count": 21,
   "metadata": {},
   "outputs": [
    {
     "data": {
      "text/plain": [
       "9"
      ]
     },
     "execution_count": 21,
     "metadata": {},
     "output_type": "execute_result"
    }
   ],
   "source": [
    "len([profile for profile in profiles if profile['isActive'] == True])"
   ]
  },
  {
   "cell_type": "code",
   "execution_count": 22,
   "metadata": {},
   "outputs": [],
   "source": [
    "# Number of inactive users"
   ]
  },
  {
   "cell_type": "code",
   "execution_count": 23,
   "metadata": {},
   "outputs": [
    {
     "data": {
      "text/plain": [
       "10"
      ]
     },
     "execution_count": 23,
     "metadata": {},
     "output_type": "execute_result"
    }
   ],
   "source": [
    "len([profile for profile in profiles if profile['isActive'] == False])"
   ]
  },
  {
   "cell_type": "code",
   "execution_count": 24,
   "metadata": {},
   "outputs": [],
   "source": [
    "# Grand total of balances for all users"
   ]
  },
  {
   "cell_type": "code",
   "execution_count": 25,
   "metadata": {},
   "outputs": [],
   "source": [
    "def float_convertor(num):\n",
    "    return float(num.replace(',','').replace('$',''))"
   ]
  },
  {
   "cell_type": "code",
   "execution_count": 26,
   "metadata": {},
   "outputs": [
    {
     "data": {
      "text/plain": [
       "12000.0"
      ]
     },
     "execution_count": 26,
     "metadata": {},
     "output_type": "execute_result"
    }
   ],
   "source": [
    "float_convertor('$12,000')"
   ]
  },
  {
   "cell_type": "code",
   "execution_count": 27,
   "metadata": {},
   "outputs": [
    {
     "data": {
      "text/plain": [
       "['$2,097.02',\n",
       " '$3,654.02',\n",
       " '$1,536.02',\n",
       " '$3,919.64',\n",
       " '$3,681.39',\n",
       " '$1,694.42',\n",
       " '$1,214.10',\n",
       " '$2,930.31',\n",
       " '$1,944.15',\n",
       " '$2,839.22',\n",
       " '$2,467.31',\n",
       " '$3,304.99',\n",
       " '$3,844.42',\n",
       " '$3,594.99',\n",
       " '$2,940.24',\n",
       " '$3,062.41',\n",
       " '$3,067.82',\n",
       " '$2,646.76',\n",
       " '$2,227.79']"
      ]
     },
     "execution_count": 27,
     "metadata": {},
     "output_type": "execute_result"
    }
   ],
   "source": [
    "profile_balances = [profile['balance'] for profile in profiles]\n",
    "profile_balances"
   ]
  },
  {
   "cell_type": "code",
   "execution_count": 28,
   "metadata": {},
   "outputs": [
    {
     "data": {
      "text/plain": [
       "[2097.02,\n",
       " 3654.02,\n",
       " 1536.02,\n",
       " 3919.64,\n",
       " 3681.39,\n",
       " 1694.42,\n",
       " 1214.1,\n",
       " 2930.31,\n",
       " 1944.15,\n",
       " 2839.22,\n",
       " 2467.31,\n",
       " 3304.99,\n",
       " 3844.42,\n",
       " 3594.99,\n",
       " 2940.24,\n",
       " 3062.41,\n",
       " 3067.82,\n",
       " 2646.76,\n",
       " 2227.79]"
      ]
     },
     "execution_count": 28,
     "metadata": {},
     "output_type": "execute_result"
    }
   ],
   "source": [
    "newlist = []\n",
    "\n",
    "for profile in profile_balances:\n",
    "    newlist.append(float_convertor(profile))\n",
    "newlist"
   ]
  },
  {
   "cell_type": "code",
   "execution_count": 29,
   "metadata": {},
   "outputs": [],
   "source": [
    "total = sum(newlist)"
   ]
  },
  {
   "cell_type": "code",
   "execution_count": 30,
   "metadata": {},
   "outputs": [],
   "source": [
    "# Average balance per user"
   ]
  },
  {
   "cell_type": "code",
   "execution_count": 31,
   "metadata": {},
   "outputs": [
    {
     "data": {
      "text/plain": [
       "2771.9484210526316"
      ]
     },
     "execution_count": 31,
     "metadata": {},
     "output_type": "execute_result"
    }
   ],
   "source": [
    "total / len(newlist)"
   ]
  },
  {
   "cell_type": "code",
   "execution_count": 32,
   "metadata": {},
   "outputs": [],
   "source": [
    "# User with the lowest balance"
   ]
  },
  {
   "cell_type": "code",
   "execution_count": 33,
   "metadata": {},
   "outputs": [
    {
     "data": {
      "text/plain": [
       "1214.1"
      ]
     },
     "execution_count": 33,
     "metadata": {},
     "output_type": "execute_result"
    }
   ],
   "source": [
    "min(newlist)"
   ]
  },
  {
   "cell_type": "code",
   "execution_count": 34,
   "metadata": {},
   "outputs": [
    {
     "data": {
      "text/plain": [
       "[6]"
      ]
     },
     "execution_count": 34,
     "metadata": {},
     "output_type": "execute_result"
    }
   ],
   "source": [
    "minlist = []\n",
    "minlist = [x for x in range(len(newlist)) if newlist[x] == min(newlist)]\n",
    "minlist"
   ]
  },
  {
   "cell_type": "code",
   "execution_count": 35,
   "metadata": {},
   "outputs": [
    {
     "data": {
      "text/plain": [
       "('Avery Flynn', '$1,214.10')"
      ]
     },
     "execution_count": 35,
     "metadata": {},
     "output_type": "execute_result"
    }
   ],
   "source": [
    "profiles[minlist[0]]['name'], profiles[minlist[0]]['balance']"
   ]
  },
  {
   "cell_type": "code",
   "execution_count": 36,
   "metadata": {},
   "outputs": [],
   "source": [
    "# User with the highest balance"
   ]
  },
  {
   "cell_type": "code",
   "execution_count": 37,
   "metadata": {},
   "outputs": [
    {
     "data": {
      "text/plain": [
       "[3]"
      ]
     },
     "execution_count": 37,
     "metadata": {},
     "output_type": "execute_result"
    }
   ],
   "source": [
    "maxlist = []\n",
    "maxlist = [x for x in range(len(newlist)) if newlist[x] == max(newlist)]\n",
    "maxlist"
   ]
  },
  {
   "cell_type": "code",
   "execution_count": 38,
   "metadata": {},
   "outputs": [
    {
     "data": {
      "text/plain": [
       "('Fay Hammond', '$3,919.64')"
      ]
     },
     "execution_count": 38,
     "metadata": {},
     "output_type": "execute_result"
    }
   ],
   "source": [
    "profiles[maxlist[0]]['name'], profiles[maxlist[0]]['balance']"
   ]
  },
  {
   "cell_type": "code",
   "execution_count": 39,
   "metadata": {},
   "outputs": [],
   "source": [
    "# Most common favorite fruit"
   ]
  },
  {
   "cell_type": "code",
   "execution_count": null,
   "metadata": {},
   "outputs": [],
   "source": []
  },
  {
   "cell_type": "code",
   "execution_count": 40,
   "metadata": {},
   "outputs": [
    {
     "data": {
      "text/plain": [
       "['strawberry',\n",
       " 'apple',\n",
       " 'banana',\n",
       " 'banana',\n",
       " 'apple',\n",
       " 'apple',\n",
       " 'banana',\n",
       " 'strawberry',\n",
       " 'strawberry',\n",
       " 'banana',\n",
       " 'strawberry',\n",
       " 'strawberry',\n",
       " 'apple',\n",
       " 'strawberry',\n",
       " 'strawberry',\n",
       " 'banana',\n",
       " 'strawberry',\n",
       " 'banana',\n",
       " 'strawberry']"
      ]
     },
     "execution_count": 40,
     "metadata": {},
     "output_type": "execute_result"
    }
   ],
   "source": [
    "fruitlist = [profile['favoriteFruit'] for profile in profiles]\n",
    "fruitlist"
   ]
  },
  {
   "cell_type": "code",
   "execution_count": 41,
   "metadata": {},
   "outputs": [
    {
     "data": {
      "text/plain": [
       "[9, 4, 6, 6, 4, 4, 6, 9, 9, 6, 9, 9, 4, 9, 9, 6, 9, 6, 9]"
      ]
     },
     "execution_count": 41,
     "metadata": {},
     "output_type": "execute_result"
    }
   ],
   "source": [
    "fruit_count = [fruitlist.count(fruit) for fruit in fruitlist]\n",
    "fruit_count"
   ]
  },
  {
   "cell_type": "code",
   "execution_count": 42,
   "metadata": {},
   "outputs": [],
   "source": [
    "newfruitlist = list(zip(fruit_count, fruitlist))"
   ]
  },
  {
   "cell_type": "code",
   "execution_count": 43,
   "metadata": {},
   "outputs": [
    {
     "data": {
      "text/plain": [
       "[(9, 'strawberry'),\n",
       " (4, 'apple'),\n",
       " (6, 'banana'),\n",
       " (6, 'banana'),\n",
       " (4, 'apple'),\n",
       " (4, 'apple'),\n",
       " (6, 'banana'),\n",
       " (9, 'strawberry'),\n",
       " (9, 'strawberry'),\n",
       " (6, 'banana'),\n",
       " (9, 'strawberry'),\n",
       " (9, 'strawberry'),\n",
       " (4, 'apple'),\n",
       " (9, 'strawberry'),\n",
       " (9, 'strawberry'),\n",
       " (6, 'banana'),\n",
       " (9, 'strawberry'),\n",
       " (6, 'banana'),\n",
       " (9, 'strawberry')]"
      ]
     },
     "execution_count": 43,
     "metadata": {},
     "output_type": "execute_result"
    }
   ],
   "source": [
    "newfruitlist"
   ]
  },
  {
   "cell_type": "code",
   "execution_count": 44,
   "metadata": {},
   "outputs": [
    {
     "data": {
      "text/plain": [
       "(9, 'strawberry')"
      ]
     },
     "execution_count": 44,
     "metadata": {},
     "output_type": "execute_result"
    }
   ],
   "source": [
    "max(newfruitlist)"
   ]
  },
  {
   "cell_type": "code",
   "execution_count": 45,
   "metadata": {},
   "outputs": [],
   "source": [
    "# Least most common favorite fruit"
   ]
  },
  {
   "cell_type": "code",
   "execution_count": 46,
   "metadata": {},
   "outputs": [
    {
     "data": {
      "text/plain": [
       "(4, 'apple')"
      ]
     },
     "execution_count": 46,
     "metadata": {},
     "output_type": "execute_result"
    }
   ],
   "source": [
    "min(newfruitlist)"
   ]
  },
  {
   "cell_type": "code",
   "execution_count": 47,
   "metadata": {},
   "outputs": [],
   "source": [
    "# Total number of unread messages for all users"
   ]
  },
  {
   "cell_type": "code",
   "execution_count": 48,
   "metadata": {},
   "outputs": [
    {
     "data": {
      "text/plain": [
       "['Hello, Hebert Estes! You have 4 unread messages.',\n",
       " 'Hello, Allison Wynn! You have 19 unread messages.',\n",
       " 'Hello, Jacobs Floyd! You have 5 unread messages.',\n",
       " 'Hello, Fay Hammond! You have 10 unread messages.',\n",
       " 'Hello, Chasity Marsh! You have 9 unread messages.',\n",
       " 'Hello, Camacho Cortez! You have 19 unread messages.',\n",
       " 'Hello, Avery Flynn! You have 13 unread messages.',\n",
       " 'Hello, Michael Cash! You have 17 unread messages.',\n",
       " 'Hello, Madeleine Bray! You have 2 unread messages.',\n",
       " 'Hello, Corine French! You have 18 unread messages.',\n",
       " 'Hello, Trudy Cummings! You have 2 unread messages.',\n",
       " 'Hello, Peggy Mayer! You have 13 unread messages.',\n",
       " 'Hello, Chan Hurley! You have 7 unread messages.',\n",
       " 'Hello, Diaz Pena! You have 13 unread messages.',\n",
       " 'Hello, Heath Castaneda! You have 12 unread messages.',\n",
       " 'Hello, Greer Blankenship! You have 7 unread messages.',\n",
       " 'Hello, Coffey Hayes! You have 19 unread messages.',\n",
       " 'Hello, Leanne Hurst! You have 5 unread messages.',\n",
       " 'Hello, Ewing Larson! You have 16 unread messages.']"
      ]
     },
     "execution_count": 48,
     "metadata": {},
     "output_type": "execute_result"
    }
   ],
   "source": [
    "greetinglist = [profile['greeting'] for profile in profiles]\n",
    "greetinglist"
   ]
  },
  {
   "cell_type": "code",
   "execution_count": 49,
   "metadata": {},
   "outputs": [],
   "source": [
    "def get_digits(string):\n",
    "    new_string = ''\n",
    "    for s in string:\n",
    "        if s.isdigit():\n",
    "            new_string += s\n",
    "    return new_string"
   ]
  },
  {
   "cell_type": "code",
   "execution_count": 50,
   "metadata": {},
   "outputs": [
    {
     "data": {
      "text/plain": [
       "210"
      ]
     },
     "execution_count": 50,
     "metadata": {},
     "output_type": "execute_result"
    }
   ],
   "source": [
    "new = []\n",
    "for g in greetinglist:\n",
    "    new.append(int(get_digits(g)))\n",
    "\n",
    "sum(new)\n",
    "    "
   ]
  },
  {
   "cell_type": "code",
   "execution_count": null,
   "metadata": {},
   "outputs": [],
   "source": []
  }
 ],
 "metadata": {
  "kernelspec": {
   "display_name": "Python 3",
   "language": "python",
   "name": "python3"
  },
  "language_info": {
   "codemirror_mode": {
    "name": "ipython",
    "version": 3
   },
   "file_extension": ".py",
   "mimetype": "text/x-python",
   "name": "python",
   "nbconvert_exporter": "python",
   "pygments_lexer": "ipython3",
   "version": "3.7.4"
  }
 },
 "nbformat": 4,
 "nbformat_minor": 2
}
