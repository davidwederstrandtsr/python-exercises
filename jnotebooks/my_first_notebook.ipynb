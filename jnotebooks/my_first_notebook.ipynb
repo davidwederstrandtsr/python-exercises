{
 "cells": [
  {
   "cell_type": "code",
   "execution_count": 1,
   "metadata": {},
   "outputs": [
    {
     "name": "stdout",
     "output_type": "stream",
     "text": [
      "Hello, Curie!\n"
     ]
    }
   ],
   "source": [
    "print(\"Hello, Curie!\")"
   ]
  },
  {
   "cell_type": "code",
   "execution_count": 2,
   "metadata": {},
   "outputs": [],
   "source": [
    "vowels = ['a', 'e', 'i', 'o', 'u']\n",
    "consonant = ['b','c','d','f','g','h','j','k','l','m','n','p','q','r','s','t','v','w','x','y','z']"
   ]
  },
  {
   "cell_type": "code",
   "execution_count": 3,
   "metadata": {
    "scrolled": true
   },
   "outputs": [
    {
     "name": "stdout",
     "output_type": "stream",
     "text": [
      "6\n"
     ]
    }
   ],
   "source": [
    "print(2 + 4)"
   ]
  },
  {
   "cell_type": "code",
   "execution_count": 4,
   "metadata": {
    "scrolled": true
   },
   "outputs": [
    {
     "data": {
      "text/plain": [
       "6"
      ]
     },
     "execution_count": 4,
     "metadata": {},
     "output_type": "execute_result"
    }
   ],
   "source": [
    "3 + 3"
   ]
  },
  {
   "cell_type": "code",
   "execution_count": 5,
   "metadata": {},
   "outputs": [],
   "source": [
    "def cumsum(num_list):\n",
    "    new_list = []\n",
    "    temp = 0\n",
    "    for n in num_list:\n",
    "        new_list.append(n + temp)\n",
    "        temp += n\n",
    "    return new_list"
   ]
  },
  {
   "cell_type": "code",
   "execution_count": 6,
   "metadata": {},
   "outputs": [
    {
     "data": {
      "text/plain": [
       "[1, 2, 3]"
      ]
     },
     "execution_count": 6,
     "metadata": {},
     "output_type": "execute_result"
    }
   ],
   "source": [
    "cumsum([1,1,1])"
   ]
  },
  {
   "cell_type": "code",
   "execution_count": 7,
   "metadata": {},
   "outputs": [
    {
     "data": {
      "text/plain": [
       "[20, 39, 129]"
      ]
     },
     "execution_count": 7,
     "metadata": {},
     "output_type": "execute_result"
    }
   ],
   "source": [
    "cumsum([20, 19, 90])"
   ]
  },
  {
   "cell_type": "code",
   "execution_count": 8,
   "metadata": {},
   "outputs": [],
   "source": [
    "def is_two(num):\n",
    "\treturn num == 2 or num == \"2\""
   ]
  },
  {
   "cell_type": "code",
   "execution_count": 9,
   "metadata": {},
   "outputs": [
    {
     "name": "stdout",
     "output_type": "stream",
     "text": [
      "True\n",
      "False\n",
      "True\n",
      "False\n"
     ]
    }
   ],
   "source": [
    "print(is_two(\"2\"))\n",
    "print(is_two(3))\n",
    "print(is_two(2))\n",
    "print(is_two(\"a\"))"
   ]
  },
  {
   "cell_type": "code",
   "execution_count": 10,
   "metadata": {},
   "outputs": [
    {
     "name": "stdout",
     "output_type": "stream",
     "text": [
      "_da_vid\n"
     ]
    }
   ],
   "source": [
    "def normalize_name(name):\n",
    "    new_name = ''\n",
    "    name = name.lower().strip()\n",
    "    name = name.replace(' ','_')\n",
    "    \n",
    "    for n in name:\n",
    "        if n in vowels or n in consonant or n == '_':\n",
    "            new_name += n\n",
    "        else:\n",
    "            continue         \n",
    "   \n",
    "    return new_name\n",
    "\n",
    "fixed_name = normalize_name('0 Da vid')\n",
    "print(fixed_name)"
   ]
  },
  {
   "cell_type": "code",
   "execution_count": 11,
   "metadata": {},
   "outputs": [
    {
     "name": "stdout",
     "output_type": "stream",
     "text": [
      "Enter a name to normalizen n n n j\n",
      "n_n_n_n_j\n"
     ]
    }
   ],
   "source": [
    "fix_name = input(\"Enter a name to normalize\")\n",
    "norm_name = normalize_name(fix_name)\n",
    "print(norm_name)"
   ]
  },
  {
   "cell_type": "code",
   "execution_count": 12,
   "metadata": {},
   "outputs": [],
   "source": [
    "al = ['a','b','c','d','e','f','g','h','i','j','k','l','m','n','o','p','q','r','s','t','u','v','w','x','y','z',' ']"
   ]
  },
  {
   "cell_type": "code",
   "execution_count": 13,
   "metadata": {},
   "outputs": [],
   "source": [
    "num_list = [19, 24, 11, 4, 17, 26, 22, 4, 3, 4, 17, 18, 19, 17, 0, 13, 3, 19]"
   ]
  },
  {
   "cell_type": "code",
   "execution_count": 14,
   "metadata": {},
   "outputs": [],
   "source": [
    "the_name = ''\n",
    "for n in num_list:\n",
    "    the_name += al[n]"
   ]
  },
  {
   "cell_type": "code",
   "execution_count": 15,
   "metadata": {},
   "outputs": [
    {
     "name": "stdout",
     "output_type": "stream",
     "text": [
      "tyler wederstrandt\n"
     ]
    }
   ],
   "source": [
    "print(the_name)"
   ]
  },
  {
   "cell_type": "code",
   "execution_count": null,
   "metadata": {},
   "outputs": [],
   "source": [
    "def calculate_tip(percent, bill):\n",
    "    while (percent < 0 or percent > 100):\n",
    "        print(\"The percentage for tip needs to be between 0 and 100\")\n",
    "        percent = input(\"Enter a tip between 0 and 1: (0.15 for 15%)\")\n",
    "    tip = bill * percent / 100.0\n",
    "\n",
    "    return bill + tip\n",
    "\n",
    "# 5 putput\n",
    "percent = int(input(\"Enter a tip between 0 and 100: \"))\n",
    "bill = int(input(\"Enter the bill amount $\"))\n",
    "bill_including_tip = calculate_tip(percent, bill)\n",
    "print(f\"Your nill before including tip is ${bill}\")\n",
    "print(f\"Your bill after including tip is ${bill_including_tip}\")"
   ]
  },
  {
   "cell_type": "code",
   "execution_count": null,
   "metadata": {},
   "outputs": [],
   "source": [
    "def calculate_discount(percent, bill):\n",
    "    while (percent < 0 and percent > 1 and bill > 0):\n",
    "        print(\"The percentage for discount needs to be between 0 and 100\")\n",
    "        percent = input(\"Enter a discount between 0 and 100: \")\n",
    "        bill = input(\"Enter the bill amount\")\n",
    "    discount = bill * percent / 100.0\n",
    "    return bill - discount\n",
    "\n",
    "# 6 output\n",
    "percent = input(\"Enter a discount between 0 and 100: \")\n",
    "bill = input(\"Enter the bill amount\")\n",
    "bill_after_discount = calculate_discount(percent, bill)\n",
    "print(f\"Your bill after discount is ${bill_after_discount}\")"
   ]
  },
  {
   "cell_type": "code",
   "execution_count": null,
   "metadata": {},
   "outputs": [],
   "source": []
  },
  {
   "cell_type": "code",
   "execution_count": null,
   "metadata": {},
   "outputs": [],
   "source": []
  },
  {
   "cell_type": "markdown",
   "metadata": {},
   "source": [
    "This is my first notebook"
   ]
  },
  {
   "cell_type": "markdown",
   "metadata": {},
   "source": []
  }
 ],
 "metadata": {
  "kernelspec": {
   "display_name": "Python 3",
   "language": "python",
   "name": "python3"
  },
  "language_info": {
   "codemirror_mode": {
    "name": "ipython",
    "version": 3
   },
   "file_extension": ".py",
   "mimetype": "text/x-python",
   "name": "python",
   "nbconvert_exporter": "python",
   "pygments_lexer": "ipython3",
   "version": "3.7.4"
  }
 },
 "nbformat": 4,
 "nbformat_minor": 2
}
