{
 "cells": [
  {
   "cell_type": "markdown",
   "metadata": {},
   "source": [
    "# Panda exercise"
   ]
  },
  {
   "cell_type": "code",
   "execution_count": 1,
   "metadata": {},
   "outputs": [],
   "source": [
    "import numpy as np\n",
    "import pandas as pd\n",
    "\n",
    "%matplotlib inline\n",
    "import matplotlib.pyplot as plt"
   ]
  },
  {
   "cell_type": "code",
   "execution_count": 2,
   "metadata": {},
   "outputs": [
    {
     "data": {
      "text/plain": [
       "0     3\n",
       "1     4\n",
       "2    16\n",
       "3    -4\n",
       "4    97\n",
       "dtype: int64"
      ]
     },
     "execution_count": 2,
     "metadata": {},
     "output_type": "execute_result"
    }
   ],
   "source": [
    "s = pd.Series([3, 4, 16, -4, 97])\n",
    "s"
   ]
  },
  {
   "cell_type": "code",
   "execution_count": 3,
   "metadata": {},
   "outputs": [
    {
     "data": {
      "text/plain": [
       "3    -4\n",
       "0     3\n",
       "1     4\n",
       "2    16\n",
       "4    97\n",
       "dtype: int64"
      ]
     },
     "execution_count": 3,
     "metadata": {},
     "output_type": "execute_result"
    }
   ],
   "source": [
    "s.sort_values()"
   ]
  },
  {
   "cell_type": "code",
   "execution_count": 4,
   "metadata": {},
   "outputs": [],
   "source": [
    "letters = pd.Series(np.random.choice(list('abcdefghijklmnopqrstuvwxyz'), 100))\n",
    "numbers = pd.Series(np.random.choice(np.arange(1, 101), 100))"
   ]
  },
  {
   "cell_type": "code",
   "execution_count": 5,
   "metadata": {},
   "outputs": [
    {
     "data": {
      "text/plain": [
       "0     93.0\n",
       "1     57.0\n",
       "2     90.0\n",
       "3     11.0\n",
       "4     80.0\n",
       "      ... \n",
       "95    26.0\n",
       "96    20.0\n",
       "97     5.0\n",
       "98    58.0\n",
       "99    41.0\n",
       "Length: 100, dtype: float64"
      ]
     },
     "execution_count": 5,
     "metadata": {},
     "output_type": "execute_result"
    }
   ],
   "source": [
    "numbers.astype(float)"
   ]
  },
  {
   "cell_type": "code",
   "execution_count": 6,
   "metadata": {},
   "outputs": [
    {
     "data": {
      "text/plain": [
       "0     False\n",
       "1     False\n",
       "2     False\n",
       "3     False\n",
       "4     False\n",
       "      ...  \n",
       "95    False\n",
       "96    False\n",
       "97    False\n",
       "98    False\n",
       "99    False\n",
       "Length: 100, dtype: bool"
      ]
     },
     "execution_count": 6,
     "metadata": {},
     "output_type": "execute_result"
    }
   ],
   "source": [
    "letters == 'a'"
   ]
  },
  {
   "cell_type": "code",
   "execution_count": 7,
   "metadata": {},
   "outputs": [
    {
     "data": {
      "text/plain": [
       "26    a\n",
       "79    a\n",
       "83    a\n",
       "dtype: object"
      ]
     },
     "execution_count": 7,
     "metadata": {},
     "output_type": "execute_result"
    }
   ],
   "source": [
    "# returns all 'a's and their index\n",
    "letters[letters == 'a']"
   ]
  },
  {
   "cell_type": "code",
   "execution_count": 8,
   "metadata": {},
   "outputs": [
    {
     "data": {
      "text/plain": [
       "0      93\n",
       "1      57\n",
       "2      90\n",
       "4      80\n",
       "6      52\n",
       "11     83\n",
       "12     95\n",
       "13     78\n",
       "17     66\n",
       "18     87\n",
       "19     95\n",
       "20     93\n",
       "21     81\n",
       "24     89\n",
       "25     54\n",
       "27     87\n",
       "30     66\n",
       "33     91\n",
       "34     59\n",
       "35     89\n",
       "37    100\n",
       "40     61\n",
       "42     71\n",
       "45     61\n",
       "49     92\n",
       "50     88\n",
       "51     69\n",
       "52     55\n",
       "54     59\n",
       "56     59\n",
       "57     70\n",
       "61     95\n",
       "62     55\n",
       "67     93\n",
       "68     53\n",
       "69     74\n",
       "72     68\n",
       "74     68\n",
       "75     84\n",
       "77     75\n",
       "79     76\n",
       "81     56\n",
       "87     54\n",
       "88    100\n",
       "89     95\n",
       "91     58\n",
       "93     88\n",
       "98     58\n",
       "dtype: int64"
      ]
     },
     "execution_count": 8,
     "metadata": {},
     "output_type": "execute_result"
    }
   ],
   "source": [
    "numbers[numbers > 50]"
   ]
  },
  {
   "cell_type": "markdown",
   "metadata": {},
   "source": [
    "~ not's what ever we are looking at numbers[~ greater_than_ten]\n"
   ]
  },
  {
   "cell_type": "code",
   "execution_count": 9,
   "metadata": {},
   "outputs": [
    {
     "data": {
      "text/plain": [
       "['a', 'e', 'i', 'o', 'u']"
      ]
     },
     "execution_count": 9,
     "metadata": {},
     "output_type": "execute_result"
    }
   ],
   "source": [
    "vowels = list('aeiou')\n",
    "vowels"
   ]
  },
  {
   "cell_type": "code",
   "execution_count": 10,
   "metadata": {},
   "outputs": [
    {
     "data": {
      "text/plain": [
       "0     False\n",
       "1     False\n",
       "2     False\n",
       "3     False\n",
       "4     False\n",
       "      ...  \n",
       "95    False\n",
       "96    False\n",
       "97    False\n",
       "98     True\n",
       "99    False\n",
       "Length: 100, dtype: bool"
      ]
     },
     "execution_count": 10,
     "metadata": {},
     "output_type": "execute_result"
    }
   ],
   "source": [
    "letters.isin(vowels)"
   ]
  },
  {
   "cell_type": "code",
   "execution_count": 11,
   "metadata": {},
   "outputs": [
    {
     "data": {
      "text/plain": [
       "12    i\n",
       "13    i\n",
       "14    e\n",
       "15    u\n",
       "17    o\n",
       "19    i\n",
       "22    u\n",
       "26    a\n",
       "28    e\n",
       "38    u\n",
       "41    e\n",
       "44    o\n",
       "51    e\n",
       "58    u\n",
       "63    e\n",
       "65    e\n",
       "66    u\n",
       "68    u\n",
       "70    e\n",
       "76    u\n",
       "79    a\n",
       "80    e\n",
       "81    e\n",
       "83    a\n",
       "85    e\n",
       "87    o\n",
       "98    i\n",
       "dtype: object"
      ]
     },
     "execution_count": 11,
     "metadata": {},
     "output_type": "execute_result"
    }
   ],
   "source": [
    "letters[letters.isin(vowels)]"
   ]
  },
  {
   "cell_type": "markdown",
   "metadata": {},
   "source": [
    "aggregration in the \"i did somthing to\""
   ]
  },
  {
   "cell_type": "code",
   "execution_count": 12,
   "metadata": {},
   "outputs": [
    {
     "data": {
      "text/plain": [
       "27"
      ]
     },
     "execution_count": 12,
     "metadata": {},
     "output_type": "execute_result"
    }
   ],
   "source": [
    "letters.isin(vowels).sum()"
   ]
  },
  {
   "cell_type": "code",
   "execution_count": 13,
   "metadata": {},
   "outputs": [
    {
     "data": {
      "text/plain": [
       "'iieuoiuaeueoeueeuueuaeeaeoi'"
      ]
     },
     "execution_count": 13,
     "metadata": {},
     "output_type": "execute_result"
    }
   ],
   "source": [
    "letters[letters.isin(vowels)].sum()"
   ]
  },
  {
   "cell_type": "code",
   "execution_count": 14,
   "metadata": {},
   "outputs": [
    {
     "data": {
      "text/plain": [
       "27"
      ]
     },
     "execution_count": 14,
     "metadata": {},
     "output_type": "execute_result"
    }
   ],
   "source": [
    "letters[letters.isin(vowels)].size"
   ]
  },
  {
   "cell_type": "code",
   "execution_count": 15,
   "metadata": {},
   "outputs": [
    {
     "data": {
      "text/plain": [
       "(27,)"
      ]
     },
     "execution_count": 15,
     "metadata": {},
     "output_type": "execute_result"
    }
   ],
   "source": [
    "letters[letters.isin(vowels)].shape"
   ]
  },
  {
   "cell_type": "code",
   "execution_count": 16,
   "metadata": {},
   "outputs": [
    {
     "data": {
      "text/plain": [
       "True"
      ]
     },
     "execution_count": 16,
     "metadata": {},
     "output_type": "execute_result"
    }
   ],
   "source": [
    "(letters == 'b').any()"
   ]
  },
  {
   "cell_type": "code",
   "execution_count": 17,
   "metadata": {},
   "outputs": [
    {
     "data": {
      "text/plain": [
       "True"
      ]
     },
     "execution_count": 17,
     "metadata": {},
     "output_type": "execute_result"
    }
   ],
   "source": [
    "(numbers > 0).all()"
   ]
  },
  {
   "cell_type": "code",
   "execution_count": 18,
   "metadata": {},
   "outputs": [
    {
     "data": {
      "text/plain": [
       "12    i\n",
       "13    i\n",
       "14    e\n",
       "15    u\n",
       "17    o\n",
       "19    i\n",
       "22    u\n",
       "26    a\n",
       "28    e\n",
       "38    u\n",
       "41    e\n",
       "44    o\n",
       "51    e\n",
       "58    u\n",
       "63    e\n",
       "65    e\n",
       "66    u\n",
       "68    u\n",
       "70    e\n",
       "76    u\n",
       "79    a\n",
       "80    e\n",
       "81    e\n",
       "83    a\n",
       "85    e\n",
       "87    o\n",
       "98    i\n",
       "dtype: object"
      ]
     },
     "execution_count": 18,
     "metadata": {},
     "output_type": "execute_result"
    }
   ],
   "source": [
    "# this creates pandas.core.series.Series\n",
    "letters[letters.isin(vowels)]"
   ]
  },
  {
   "cell_type": "code",
   "execution_count": 19,
   "metadata": {},
   "outputs": [
    {
     "data": {
      "text/plain": [
       "e    10\n",
       "u     7\n",
       "i     4\n",
       "o     3\n",
       "a     3\n",
       "dtype: int64"
      ]
     },
     "execution_count": 19,
     "metadata": {},
     "output_type": "execute_result"
    }
   ],
   "source": [
    "letters[letters.isin(vowels)].value_counts()"
   ]
  },
  {
   "cell_type": "code",
   "execution_count": 20,
   "metadata": {},
   "outputs": [
    {
     "data": {
      "text/plain": [
       "0    e\n",
       "dtype: object"
      ]
     },
     "execution_count": 20,
     "metadata": {},
     "output_type": "execute_result"
    }
   ],
   "source": [
    "letters[letters.isin(vowels)].mode()"
   ]
  },
  {
   "cell_type": "code",
   "execution_count": 21,
   "metadata": {},
   "outputs": [
    {
     "data": {
      "text/plain": [
       "e    10\n",
       "dtype: int64"
      ]
     },
     "execution_count": 21,
     "metadata": {},
     "output_type": "execute_result"
    }
   ],
   "source": [
    "letters[letters.isin(vowels)].value_counts().sort_values().tail(1)"
   ]
  },
  {
   "cell_type": "code",
   "execution_count": 22,
   "metadata": {},
   "outputs": [
    {
     "data": {
      "text/plain": [
       "count    100.000000\n",
       "mean      47.510000\n",
       "std       30.816661\n",
       "dtype: float64"
      ]
     },
     "execution_count": 22,
     "metadata": {},
     "output_type": "execute_result"
    }
   ],
   "source": [
    "numbers.agg(['count', 'mean', 'std'])"
   ]
  },
  {
   "cell_type": "code",
   "execution_count": 23,
   "metadata": {},
   "outputs": [
    {
     "data": {
      "text/plain": [
       "47.51"
      ]
     },
     "execution_count": 23,
     "metadata": {},
     "output_type": "execute_result"
    }
   ],
   "source": [
    "numbers.agg(['count', 'mean', 'std'])['mean']"
   ]
  },
  {
   "cell_type": "code",
   "execution_count": 24,
   "metadata": {},
   "outputs": [
    {
     "data": {
      "text/plain": [
       "47.51"
      ]
     },
     "execution_count": 24,
     "metadata": {},
     "output_type": "execute_result"
    }
   ],
   "source": [
    "numbers.agg(['count', 'mean', 'std'])[1]"
   ]
  },
  {
   "cell_type": "code",
   "execution_count": 25,
   "metadata": {},
   "outputs": [
    {
     "data": {
      "text/plain": [
       "count    100.000000\n",
       "mean      47.510000\n",
       "std       30.816661\n",
       "min        1.000000\n",
       "25%       20.000000\n",
       "50%       49.500000\n",
       "75%       74.250000\n",
       "max      100.000000\n",
       "dtype: float64"
      ]
     },
     "execution_count": 25,
     "metadata": {},
     "output_type": "execute_result"
    }
   ],
   "source": [
    "number_summary = numbers.describe()\n",
    "number_summary"
   ]
  },
  {
   "cell_type": "markdown",
   "metadata": {},
   "source": [
    ".apply() to use functions"
   ]
  },
  {
   "cell_type": "code",
   "execution_count": 26,
   "metadata": {},
   "outputs": [
    {
     "data": {
      "text/plain": [
       "0     False\n",
       "1     False\n",
       "2     False\n",
       "3     False\n",
       "4      True\n",
       "      ...  \n",
       "95    False\n",
       "96     True\n",
       "97    False\n",
       "98    False\n",
       "99    False\n",
       "Length: 100, dtype: bool"
      ]
     },
     "execution_count": 26,
     "metadata": {},
     "output_type": "execute_result"
    }
   ],
   "source": [
    "numbers % 4 == 0"
   ]
  },
  {
   "cell_type": "code",
   "execution_count": 27,
   "metadata": {},
   "outputs": [
    {
     "data": {
      "text/plain": [
       "0     Not Evenly Divisible by Four\n",
       "1     Not Evenly Divisible by Four\n",
       "2     Not Evenly Divisible by Four\n",
       "3     Not Evenly Divisible by Four\n",
       "4          Evenly divided by Four!\n",
       "                  ...             \n",
       "95    Not Evenly Divisible by Four\n",
       "96         Evenly divided by Four!\n",
       "97    Not Evenly Divisible by Four\n",
       "98    Not Evenly Divisible by Four\n",
       "99    Not Evenly Divisible by Four\n",
       "Length: 100, dtype: object"
      ]
     },
     "execution_count": 27,
     "metadata": {},
     "output_type": "execute_result"
    }
   ],
   "source": [
    "def is_divisible_by_4(n):\n",
    "    if n % 4 == 0:\n",
    "        return \"Evenly divided by Four!\"\n",
    "    else:\n",
    "        return \"Not Evenly Divisible by Four\"\n",
    "    \n",
    "numbers.apply(is_divisible_by_4)"
   ]
  },
  {
   "cell_type": "code",
   "execution_count": 28,
   "metadata": {},
   "outputs": [],
   "source": [
    "def bin_number(n):\n",
    "    if n < 25:\n",
    "        return '[0, 25)'\n",
    "    elif n < 50:\n",
    "        return '[25, 50)'\n",
    "    elif n < 75:\n",
    "        return '[50, 75)'\n",
    "    else:\n",
    "        return '[75, 101)'"
   ]
  },
  {
   "cell_type": "code",
   "execution_count": 29,
   "metadata": {},
   "outputs": [
    {
     "data": {
      "text/plain": [
       "0     [75, 101)\n",
       "1      [50, 75)\n",
       "2     [75, 101)\n",
       "3       [0, 25)\n",
       "4     [75, 101)\n",
       "        ...    \n",
       "95     [25, 50)\n",
       "96      [0, 25)\n",
       "97      [0, 25)\n",
       "98     [50, 75)\n",
       "99     [25, 50)\n",
       "Length: 100, dtype: object"
      ]
     },
     "execution_count": 29,
     "metadata": {},
     "output_type": "execute_result"
    }
   ],
   "source": [
    "numbers.apply(bin_number)"
   ]
  },
  {
   "cell_type": "code",
   "execution_count": 30,
   "metadata": {},
   "outputs": [
    {
     "data": {
      "text/plain": [
       "[0, 25)      31\n",
       "[25, 50)     19\n",
       "[50, 75)     25\n",
       "[75, 101)    25\n",
       "dtype: int64"
      ]
     },
     "execution_count": 30,
     "metadata": {},
     "output_type": "execute_result"
    }
   ],
   "source": [
    "numbers.apply(bin_number).value_counts().sort_index()"
   ]
  },
  {
   "cell_type": "code",
   "execution_count": 31,
   "metadata": {},
   "outputs": [
    {
     "data": {
      "text/plain": [
       "11    5\n",
       "95    4\n",
       "32    4\n",
       "93    3\n",
       "59    3\n",
       "     ..\n",
       "31    1\n",
       "83    1\n",
       "26    1\n",
       "69    1\n",
       "25    1\n",
       "Length: 64, dtype: int64"
      ]
     },
     "execution_count": 31,
     "metadata": {},
     "output_type": "execute_result"
    }
   ],
   "source": [
    "numbers.value_counts()"
   ]
  },
  {
   "cell_type": "code",
   "execution_count": 32,
   "metadata": {},
   "outputs": [
    {
     "data": {
      "text/plain": [
       "(0.9, 25.75]      32\n",
       "(25.75, 50.5]     20\n",
       "(50.5, 75.25]     24\n",
       "(75.25, 100.0]    24\n",
       "dtype: int64"
      ]
     },
     "execution_count": 32,
     "metadata": {},
     "output_type": "execute_result"
    }
   ],
   "source": [
    "numbers.value_counts(bins=4).sort_index()"
   ]
  },
  {
   "cell_type": "code",
   "execution_count": 33,
   "metadata": {},
   "outputs": [
    {
     "data": {
      "text/plain": [
       "0     (75.25, 100.0]\n",
       "1      (50.5, 75.25]\n",
       "2     (75.25, 100.0]\n",
       "3     (0.901, 25.75]\n",
       "4     (75.25, 100.0]\n",
       "           ...      \n",
       "95     (25.75, 50.5]\n",
       "96    (0.901, 25.75]\n",
       "97    (0.901, 25.75]\n",
       "98     (50.5, 75.25]\n",
       "99     (25.75, 50.5]\n",
       "Length: 100, dtype: category\n",
       "Categories (4, interval[float64]): [(0.901, 25.75] < (25.75, 50.5] < (50.5, 75.25] < (75.25, 100.0]]"
      ]
     },
     "execution_count": 33,
     "metadata": {},
     "output_type": "execute_result"
    }
   ],
   "source": [
    "pd.cut(numbers, 4)"
   ]
  },
  {
   "cell_type": "code",
   "execution_count": 34,
   "metadata": {},
   "outputs": [
    {
     "data": {
      "text/plain": [
       "(0.901, 25.75]    32\n",
       "(25.75, 50.5]     20\n",
       "(50.5, 75.25]     24\n",
       "(75.25, 100.0]    24\n",
       "dtype: int64"
      ]
     },
     "execution_count": 34,
     "metadata": {},
     "output_type": "execute_result"
    }
   ],
   "source": [
    "pd.cut(numbers, 4).value_counts().sort_index()"
   ]
  },
  {
   "cell_type": "code",
   "execution_count": 35,
   "metadata": {},
   "outputs": [
    {
     "data": {
      "text/plain": [
       "(75.25, 100.0]    24\n",
       "(50.5, 75.25]     24\n",
       "(25.75, 50.5]     20\n",
       "(0.901, 25.75]    32\n",
       "dtype: int64"
      ]
     },
     "execution_count": 35,
     "metadata": {},
     "output_type": "execute_result"
    }
   ],
   "source": [
    "pd.cut(numbers, 4).value_counts().sort_index(ascending=False)"
   ]
  },
  {
   "cell_type": "code",
   "execution_count": 36,
   "metadata": {
    "scrolled": true
   },
   "outputs": [
    {
     "data": {
      "text/plain": [
       "very small    32\n",
       "small         20\n",
       "large         24\n",
       "very large    24\n",
       "dtype: int64"
      ]
     },
     "execution_count": 36,
     "metadata": {},
     "output_type": "execute_result"
    }
   ],
   "source": [
    "pd.cut(numbers, 4, labels=['very small', 'small', 'large', 'very large']).value_counts().sort_index()"
   ]
  },
  {
   "cell_type": "markdown",
   "metadata": {},
   "source": [
    "## Binning Data\n",
    "\n",
    "- `pd.cut`  for: equal sized bins (but maybe not the same number of values in each bin)\n",
    "- `pd.qcut` for: the same number of values in each bin (but the bins might have different widths)"
   ]
  },
  {
   "cell_type": "code",
   "execution_count": 37,
   "metadata": {},
   "outputs": [
    {
     "data": {
      "text/plain": [
       "(0.901, 13.375]    20\n",
       "(13.375, 25.75]    12\n",
       "(25.75, 38.125]    12\n",
       "(38.125, 50.5]      8\n",
       "(50.5, 62.875]     15\n",
       "(62.875, 75.25]     9\n",
       "(75.25, 87.625]     8\n",
       "(87.625, 100.0]    16\n",
       "dtype: int64"
      ]
     },
     "execution_count": 37,
     "metadata": {},
     "output_type": "execute_result"
    }
   ],
   "source": [
    "# cut tries to make the bins sizes the same\n",
    "pd.cut(numbers, 8).value_counts().sort_index()"
   ]
  },
  {
   "cell_type": "code",
   "execution_count": 38,
   "metadata": {},
   "outputs": [
    {
     "data": {
      "text/plain": [
       "(0.999, 9.375]     13\n",
       "(9.375, 20.0]      13\n",
       "(20.0, 32.0]       14\n",
       "(32.0, 49.5]       10\n",
       "(49.5, 58.875]     12\n",
       "(58.875, 74.25]    13\n",
       "(74.25, 89.0]      13\n",
       "(89.0, 100.0]      12\n",
       "dtype: int64"
      ]
     },
     "execution_count": 38,
     "metadata": {},
     "output_type": "execute_result"
    }
   ],
   "source": [
    "# qcut tries to make the bin values the same, instead of the range\n",
    "pd.qcut(numbers, 8).value_counts().sort_index()"
   ]
  },
  {
   "cell_type": "markdown",
   "metadata": {},
   "source": [
    "# Vectorized String Operations"
   ]
  },
  {
   "cell_type": "code",
   "execution_count": 39,
   "metadata": {},
   "outputs": [
    {
     "data": {
      "text/plain": [
       "0     not evenly divisible by four\n",
       "1     not evenly divisible by four\n",
       "2     not evenly divisible by four\n",
       "3     not evenly divisible by four\n",
       "4          evenly divided by four!\n",
       "                  ...             \n",
       "95    not evenly divisible by four\n",
       "96         evenly divided by four!\n",
       "97    not evenly divisible by four\n",
       "98    not evenly divisible by four\n",
       "99    not evenly divisible by four\n",
       "Length: 100, dtype: object"
      ]
     },
     "execution_count": 39,
     "metadata": {},
     "output_type": "execute_result"
    }
   ],
   "source": [
    "numbers.apply(is_divisible_by_4).str.lower()"
   ]
  },
  {
   "cell_type": "code",
   "execution_count": 40,
   "metadata": {},
   "outputs": [
    {
     "data": {
      "text/plain": [
       "0     Not \n",
       "1     Not \n",
       "2     Not \n",
       "3     Not \n",
       "4     Even\n",
       "      ... \n",
       "95    Not \n",
       "96    Even\n",
       "97    Not \n",
       "98    Not \n",
       "99    Not \n",
       "Length: 100, dtype: object"
      ]
     },
     "execution_count": 40,
     "metadata": {},
     "output_type": "execute_result"
    }
   ],
   "source": [
    "# returns the first '4' char of each string\n",
    "numbers.apply(is_divisible_by_4).str[:4]"
   ]
  },
  {
   "cell_type": "code",
   "execution_count": 41,
   "metadata": {},
   "outputs": [
    {
     "data": {
      "text/plain": [
       "0    Not Evenly Divisible by Four\n",
       "1    Not Evenly Divisible by Four\n",
       "2    Not Evenly Divisible by Four\n",
       "3    Not Evenly Divisible by Four\n",
       "dtype: object"
      ]
     },
     "execution_count": 41,
     "metadata": {},
     "output_type": "execute_result"
    }
   ],
   "source": [
    "numbers.apply(is_divisible_by_4)[:4]"
   ]
  },
  {
   "cell_type": "markdown",
   "metadata": {},
   "source": [
    "# Plotting"
   ]
  },
  {
   "cell_type": "code",
   "execution_count": 42,
   "metadata": {},
   "outputs": [
    {
     "data": {
      "text/plain": [
       "<matplotlib.axes._subplots.AxesSubplot at 0x117b89f90>"
      ]
     },
     "execution_count": 42,
     "metadata": {},
     "output_type": "execute_result"
    },
    {
     "data": {
      "image/png": "[encoded data removed]",
      "text/plain": [
       "<Figure size 432x288 with 1 Axes>"
      ]
     },
     "metadata": {
      "needs_background": "light"
     },
     "output_type": "display_data"
    }
   ],
   "source": [
    "numbers.plot()"
   ]
  },
  {
   "cell_type": "code",
   "execution_count": 43,
   "metadata": {},
   "outputs": [
    {
     "data": {
      "text/plain": [
       "<matplotlib.axes._subplots.AxesSubplot at 0x11839d590>"
      ]
     },
     "execution_count": 43,
     "metadata": {},
     "output_type": "execute_result"
    },
    {
     "data": {
      "image/png": "[encoded data removed]",
      "text/plain": [
       "<Figure size 432x288 with 1 Axes>"
      ]
     },
     "metadata": {
      "needs_background": "light"
     },
     "output_type": "display_data"
    }
   ],
   "source": [
    "numbers.plot.hist()"
   ]
  },
  {
   "cell_type": "code",
   "execution_count": 49,
   "metadata": {},
   "outputs": [
    {
     "data": {
      "text/plain": [
       "(array([0, 1, 2, 3, 4]), <a list of 5 Text xticklabel objects>)"
      ]
     },
     "execution_count": 49,
     "metadata": {},
     "output_type": "execute_result"
    },
    {
     "data": {
      "image/png": "[encoded data removed]",
      "text/plain": [
       "<Figure size 432x288 with 1 Axes>"
      ]
     },
     "metadata": {
      "needs_background": "light"
     },
     "output_type": "display_data"
    }
   ],
   "source": [
    "letters[letters.isin(vowels)].value_counts().plot.bar()\n",
    "plt.xticks(rotation=0)"
   ]
  },
  {
   "cell_type": "code",
   "execution_count": 51,
   "metadata": {},
   "outputs": [
    {
     "data": {
      "text/plain": [
       "0     3\n",
       "1     4\n",
       "2    16\n",
       "3    -4\n",
       "4    97\n",
       "dtype: int64"
      ]
     },
     "execution_count": 51,
     "metadata": {},
     "output_type": "execute_result"
    }
   ],
   "source": [
    "s3 = pd.Series([1, 2, 3])\n",
    "s"
   ]
  },
  {
   "cell_type": "code",
   "execution_count": 53,
   "metadata": {},
   "outputs": [
    {
     "data": {
      "text/plain": [
       "0    16\n",
       "1     4\n",
       "2    16\n",
       "3    -4\n",
       "4    97\n",
       "dtype: int64"
      ]
     },
     "execution_count": 53,
     "metadata": {},
     "output_type": "execute_result"
    }
   ],
   "source": [
    "s[0] = 16\n",
    "s"
   ]
  },
  {
   "cell_type": "code",
   "execution_count": 54,
   "metadata": {},
   "outputs": [
    {
     "data": {
      "text/plain": [
       "'0.25.1'"
      ]
     },
     "execution_count": 54,
     "metadata": {},
     "output_type": "execute_result"
    }
   ],
   "source": [
    "pd.__version__"
   ]
  },
  {
   "cell_type": "code",
   "execution_count": null,
   "metadata": {},
   "outputs": [],
   "source": []
  },
  {
   "cell_type": "code",
   "execution_count": null,
   "metadata": {},
   "outputs": [],
   "source": []
  },
  {
   "cell_type": "code",
   "execution_count": null,
   "metadata": {},
   "outputs": [],
   "source": []
  },
  {
   "cell_type": "code",
   "execution_count": null,
   "metadata": {},
   "outputs": [],
   "source": []
  }
 ],
 "metadata": {
  "kernelspec": {
   "display_name": "Python 3",
   "language": "python",
   "name": "python3"
  },
  "language_info": {
   "codemirror_mode": {
    "name": "ipython",
    "version": 3
   },
   "file_extension": ".py",
   "mimetype": "text/x-python",
   "name": "python",
   "nbconvert_exporter": "python",
   "pygments_lexer": "ipython3",
   "version": "3.7.4"
  }
 },
 "nbformat": 4,
 "nbformat_minor": 2
}
