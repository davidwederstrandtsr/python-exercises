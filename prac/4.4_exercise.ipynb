{
 "cells": [
  {
   "cell_type": "code",
   "execution_count": 39,
   "metadata": {},
   "outputs": [],
   "source": [
    "vowels = ['a', 'e', 'i', 'o', 'u']"
   ]
  },
  {
   "cell_type": "code",
   "execution_count": 64,
   "metadata": {},
   "outputs": [],
   "source": [
    "consonant = ['b','c','d','f','g','h','j','k','l','m','n','p','q','r','s','t','v','w','x','y','z']"
   ]
  },
  {
   "cell_type": "code",
   "execution_count": 14,
   "metadata": {},
   "outputs": [
    {
     "name": "stdout",
     "output_type": "stream",
     "text": [
      "Enter a day of the week: monday\n"
     ]
    }
   ],
   "source": [
    "weekday = [\"Monday\", \"Tuesday\", \"Wednesday\", \"Thursday\", \"Firday\"]\n",
    "weekend = [\"Saturday\", \"Sunday\"]\n",
    "answer2 = input(\"Enter a day of the week: \")\n",
    "\n",
    "if answer2 in weekday:\n",
    "\tprint(\"Aw, it a weekday\")\n",
    "elif answer2 in weekend:\n",
    "\tprint(\"Yeah, its the weekend\")"
   ]
  },
  {
   "cell_type": "code",
   "execution_count": 23,
   "metadata": {},
   "outputs": [],
   "source": [
    "def handle_commas(number):\n",
    "    new = number.replace(',','')\n",
    "    return new"
   ]
  },
  {
   "cell_type": "code",
   "execution_count": 24,
   "metadata": {},
   "outputs": [],
   "source": [
    "new_number = handle_commas('1,111')"
   ]
  },
  {
   "cell_type": "code",
   "execution_count": 25,
   "metadata": {},
   "outputs": [
    {
     "data": {
      "text/plain": [
       "'1111'"
      ]
     },
     "execution_count": 25,
     "metadata": {},
     "output_type": "execute_result"
    }
   ],
   "source": [
    "new_number"
   ]
  },
  {
   "cell_type": "code",
   "execution_count": 31,
   "metadata": {},
   "outputs": [],
   "source": [
    "def get_letter_grade(number):\n",
    "    while (str(number).isdigit() == False\n",
    "        or number < 0 or number > 100):\n",
    "        print(\"The entered number is not valid.\")\n",
    "        number = input(\"Enter a numerical grade: \")\n",
    "\n",
    "    if number >= 90:\n",
    "        grade = 'A'\n",
    "    elif number >= 80:\n",
    "        grade = 'B'\n",
    "    elif number >= 70:\n",
    "        grade = 'C'\n",
    "    elif number >= 60:\n",
    "        grade = 'D'\n",
    "    else:\n",
    "        grade = 'F'\n",
    "\n",
    "    return grade"
   ]
  },
  {
   "cell_type": "code",
   "execution_count": 32,
   "metadata": {},
   "outputs": [
    {
     "data": {
      "text/plain": [
       "'B'"
      ]
     },
     "execution_count": 32,
     "metadata": {},
     "output_type": "execute_result"
    }
   ],
   "source": [
    "get_letter_grade(87)"
   ]
  },
  {
   "cell_type": "code",
   "execution_count": 52,
   "metadata": {},
   "outputs": [],
   "source": [
    "def remove_vowels(word):\n",
    "    new_string = ''\n",
    "    for w in word:\n",
    "        l = w.lower()\n",
    "        if w not in vowels and l not in vowels:\n",
    "            new_string += w\n",
    "        else:\n",
    "            continue\n",
    "    return new_string"
   ]
  },
  {
   "cell_type": "code",
   "execution_count": 53,
   "metadata": {
    "scrolled": true
   },
   "outputs": [
    {
     "data": {
      "text/plain": [
       "'Msssspp'"
      ]
     },
     "execution_count": 53,
     "metadata": {},
     "output_type": "execute_result"
    }
   ],
   "source": [
    "remove_vowels('MississippI')"
   ]
  },
  {
   "cell_type": "code",
   "execution_count": 107,
   "metadata": {},
   "outputs": [],
   "source": [
    "def normalize_name(name):\n",
    "    new_name = ''\n",
    "    name = name.lower().strip()\n",
    "    name = name.replace(' ','_')\n",
    "    \n",
    "    for n in name:\n",
    "        if n in vowels or n in consonant or n == '_':\n",
    "            new_name += n        \n",
    "   \n",
    "    return new_name"
   ]
  },
  {
   "cell_type": "code",
   "execution_count": 108,
   "metadata": {},
   "outputs": [
    {
     "data": {
      "text/plain": [
       "'_da_vid'"
      ]
     },
     "execution_count": 108,
     "metadata": {},
     "output_type": "execute_result"
    }
   ],
   "source": [
    "normalize_name('0 Da vid')"
   ]
  },
  {
   "cell_type": "code",
   "execution_count": null,
   "metadata": {},
   "outputs": [],
   "source": []
  }
 ],
 "metadata": {
  "kernelspec": {
   "display_name": "Python 3",
   "language": "python",
   "name": "python3"
  },
  "language_info": {
   "codemirror_mode": {
    "name": "ipython",
    "version": 3
   },
   "file_extension": ".py",
   "mimetype": "text/x-python",
   "name": "python",
   "nbconvert_exporter": "python",
   "pygments_lexer": "ipython3",
   "version": "3.7.4"
  }
 },
 "nbformat": 4,
 "nbformat_minor": 2
}
