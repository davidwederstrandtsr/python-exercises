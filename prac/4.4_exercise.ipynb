{
 "cells": [
  {
   "cell_type": "code",
   "execution_count": 8,
   "metadata": {},
   "outputs": [],
   "source": []
  },
  {
   "cell_type": "code",
   "execution_count": null,
   "metadata": {},
   "outputs": [],
   "source": []
  },
  {
   "cell_type": "code",
   "execution_count": 14,
   "metadata": {},
   "outputs": [
    {
     "name": "stdout",
     "output_type": "stream",
     "text": [
      "Enter a day of the week: monday\n"
     ]
    }
   ],
   "source": [
    "weekday = [\"Monday\", \"Tuesday\", \"Wednesday\", \"Thursday\", \"Firday\"]\n",
    "weekend = [\"Saturday\", \"Sunday\"]\n",
    "answer2 = input(\"Enter a day of the week: \")\n",
    "\n",
    "if answer2 in weekday:\n",
    "\tprint(\"Aw, it a weekday\")\n",
    "elif answer2 in weekend:\n",
    "\tprint(\"Yeah, its the weekend\")"
   ]
  },
  {
   "cell_type": "code",
   "execution_count": null,
   "metadata": {},
   "outputs": [],
   "source": []
  }
 ],
 "metadata": {
  "kernelspec": {
   "display_name": "Python 3",
   "language": "python",
   "name": "python3"
  },
  "language_info": {
   "codemirror_mode": {
    "name": "ipython",
    "version": 3
   },
   "file_extension": ".py",
   "mimetype": "text/x-python",
   "name": "python",
   "nbconvert_exporter": "python",
   "pygments_lexer": "ipython3",
   "version": "3.7.4"
  }
 },
 "nbformat": 4,
 "nbformat_minor": 2
}
